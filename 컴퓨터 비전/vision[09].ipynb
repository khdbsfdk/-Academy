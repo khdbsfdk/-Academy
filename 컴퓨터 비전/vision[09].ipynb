{
 "cells": [
  {
   "cell_type": "markdown",
   "id": "7df00fad",
   "metadata": {},
   "source": [
    "# <복습>\n",
    "- 딥러닝 + cv2"
   ]
  },
  {
   "cell_type": "code",
   "execution_count": 1,
   "id": "77259ab6",
   "metadata": {},
   "outputs": [
    {
     "name": "stdout",
     "output_type": "stream",
     "text": [
      "['apple1.png', 'apple2.png', 'beagle.jpg', 'fish.jpg', 'pineapple.jpg', 'scooter.jpg', 'space_shuttle.jpg']\n",
      "opencv_DNN/googlenet/fig/apple1.png\n",
      "[3.9514849e-09 1.8157695e-07 2.1860103e-07 2.7997571e-09 3.2794156e-09]\n"
     ]
    }
   ],
   "source": [
    "import matplotlib.pyplot as plt\n",
    "import numpy as np\n",
    "import cv2\n",
    "import sys\n",
    "import os\n",
    "\n",
    "file_list = os.listdir('opencv_DNN/googlenet/fig/')\n",
    "print(file_list)\n",
    "\n",
    "img_list = []\n",
    "for i in file_list:\n",
    "    img_list.append('opencv_DNN/googlenet/fig/' + i)\n",
    "\n",
    "    \n",
    "model = 'googlenet/bvlc_googlenet.caffemodel'\n",
    "config = 'googlenet/deploy.prototxt'\n",
    "\n",
    "net = cv2.dnn.readNet(model, config)\n",
    "\n",
    "if net.empty():\n",
    "    sys.exit('실패')\n",
    "    \n",
    "class_names = []\n",
    "with open('googlenet/classification_classes_ILSVRC2012.txt', 'rt') as f:\n",
    "    class_names = f.read().rstrip('\\n').split('\\n')\n",
    "\n",
    "index = 0\n",
    "while True:\n",
    "    print(img_list[index])\n",
    "    img = cv2.imread(img_list[index])\n",
    "    \n",
    "    if img is None:\n",
    "        sys.exit('오류')\n",
    "        break\n",
    "        \n",
    "    blob = cv2.dnn.blobFromImage(img, 1, (224, 224), (104, 117, 123), \n",
    "                             swapRB = False)\n",
    "    net.setInput(blob)\n",
    "    prob = net.forward()\n",
    "    \n",
    "    out = prob.flatten()\n",
    "    print(out[0:5])\n",
    "    class_id = np.argmax(out)\n",
    "    \n",
    "    confidence = out[class_id]\n",
    "    category = class_names[class_id]\n",
    "    \n",
    "    text = f'{category} ({confidence*100:.2f}%)'\n",
    "    cv2.putText(img, text, (10, 30), cv2.FONT_HERSHEY_COMPLEX,\n",
    "               1, (100, 0, 230), 1, cv2.LINE_AA)\n",
    "        \n",
    "#     img = cv2.resize(img, (900, 600), interpolation = cv2.INTER_AREA)\n",
    "    cv2.imshow('img', img)\n",
    "    \n",
    "    if cv2.waitKey(3000) == 27:\n",
    "        break\n",
    "    index += 1\n",
    "    if index > len(file_list):\n",
    "        index = 0\n",
    "        \n",
    "cv2.destroyAllWindows()"
   ]
  },
  {
   "cell_type": "code",
   "execution_count": 22,
   "id": "f16a4c40",
   "metadata": {},
   "outputs": [],
   "source": [
    "import matplotlib.pyplot as plt\n",
    "import numpy as np\n",
    "import cv2\n",
    "import sys\n",
    "import os\n",
    "\n",
    "model = 'googlenet/face_detector/opencv_face_detector_uint8.pb'\n",
    "config = 'googlenet/face_detector/opencv_face_detector.pbtxt'\n",
    "\n",
    "cap = cv2.VideoCapture(0)\n",
    "\n",
    "if not cap.isOpened():\n",
    "    cap.release()\n",
    "    sys.exit('실패')\n",
    "    \n",
    "net = cv2.dnn.readNet(model, config)\n",
    "\n",
    "if net.empty():\n",
    "    sys.exit('오류')\n",
    "    \n",
    "while True:\n",
    "    ret, frame = cap.read()\n",
    "    \n",
    "    if not ret:\n",
    "        print('ret None')\n",
    "        break\n",
    "        \n",
    "    blob = cv2.dnn.blobFromImage(frame, 1, (300, 300), (104, 177, 123))\n",
    "    net.setInput(blob)\n",
    "    out = net.forward()  # out(1, 1, 200, 7)\n",
    "    \n",
    "    detect = out[0, 0, :, :]\n",
    "    h, w = frame.shape[:2]\n",
    "    \n",
    "    for i in range(detect.shape[0]):\n",
    "        confidence = detect[i, 2]\n",
    "        \n",
    "        if confidence > 0.5:\n",
    "            x1 = int(detect[i, 3]*w)\n",
    "            y1 = int(detect[i, 4]*h)\n",
    "            x2 = int(detect[i, 5]*w)\n",
    "            y2 = int(detect[i, 6]*h)\n",
    "            \n",
    "            cv2.rectangle(frame, (x1, y1), (x2, y2),\n",
    "                         (90, 100, 255), 2)\n",
    "            \n",
    "            text = f'Face : P{confidence:.2f}'\n",
    "            cv2.putText(frame, text, (x1, y1-5), cv2.FONT_HERSHEY_COMPLEX,\n",
    "                       1, (200, 100, 0), 1, cv2.LINE_AA)\n",
    "            \n",
    "        cv2.imshow('frame', frame)\n",
    "        \n",
    "        if cv2.waitKey(3000) == 27:\n",
    "            break\n",
    "            \n",
    "cap.release()\n",
    "cv2.destroyAllWindows()"
   ]
  },
  {
   "cell_type": "markdown",
   "id": "03306fb2",
   "metadata": {},
   "source": [
    "## 히스토그램 역투영"
   ]
  },
  {
   "cell_type": "code",
   "execution_count": 1,
   "id": "88043f12",
   "metadata": {},
   "outputs": [],
   "source": [
    "import matplotlib.pyplot as plt\n",
    "import numpy as np\n",
    "import cv2\n",
    "import sys\n",
    "import os\n",
    "\n",
    "src = cv2.imread('Ch_4_Histogram_modi/fig/green.png', cv2.IMREAD_REDUCED_COLOR_2)\n",
    "src_hsv = cv2.cvtColor(src, cv2.COLOR_BGR2HSV)\n",
    "\n",
    "x, y, w, h = cv2.selectROI(src)\n",
    "crop = src_hsv[y:y+h, x:x+w]\n",
    "joint_hist = cv2.calcHist([crop], [0, 1], None, [180, 256],\n",
    "                         [0, 180, 0, 256])\n",
    "back_proj = cv2.calcBackProject([src_hsv], [0, 1], joint_hist,\n",
    "                               [0, 180, 0, 256], 1)\n",
    "\n",
    "dft = cv2.copyTo(src, back_proj)\n",
    "\n",
    "cv2.imshow('src', src)\n",
    "cv2.imshow('crop', crop)\n",
    "cv2.imshow('joint_hist', joint_hist)\n",
    "cv2.imshow('back_proj', back_proj)\n",
    "cv2.imshow('dft', dft)\n",
    "\n",
    "cv2.waitKey()\n",
    "cv2.destroyAllWindows()"
   ]
  },
  {
   "cell_type": "markdown",
   "id": "ef43c71b",
   "metadata": {},
   "source": [
    "## 컨벌루션\n",
    "- 평균 필터 제작\n",
    "- blur함수는 적절하지 않다. 따라서 가우시안 필터 사용."
   ]
  },
  {
   "cell_type": "code",
   "execution_count": 1,
   "id": "c0791b9c",
   "metadata": {},
   "outputs": [],
   "source": [
    "import matplotlib.pyplot as plt\n",
    "import numpy as np\n",
    "import cv2\n",
    "import sys\n",
    "\n",
    "src = cv2.imread('Ch_5_filtering/fig/blue_eyes.png')\n",
    "\n",
    "# 커널 제작\n",
    "kernel3 = np.ones((3, 3), np.float32) / 9.0\n",
    "kernel5 = np.ones((5, 5), np.float32) / 25.0\n",
    "kernel9 = np.ones((9, 9), np.float32) / 81.0\n",
    "\n",
    "# 커널 적용\n",
    "dst3 = cv2.filter2D(src, -1, kernel3)\n",
    "dst5 = cv2.filter2D(src, -1, kernel5)\n",
    "dst9 = cv2.filter2D(src, -1, kernel9)\n",
    "\n",
    "# 다른 방법 - blur()\n",
    "dst_bulr = cv2.blur(src, (3, 3))\n",
    "\n",
    "for ksize in (3, 5, 7, 9, 11, 13, 15, 3):\n",
    "    dst = cv2.blur(src, (ksize, ksize))\n",
    "    \n",
    "    text = '{} * {}'.format(ksize, ksize)\n",
    "    cv2.putText(dst, text, (10, 30), cv2.FONT_HERSHEY_COMPLEX,\n",
    "               1, (100, 255, 200), 1, cv2.LINE_AA)\n",
    "    cv2.imshow('dst', dst)\n",
    "    cv2.waitKey(2000)\n",
    "\n",
    "# cv2.imshow('src', src)\n",
    "# cv2.imshow('dst3', dst3)\n",
    "# cv2.imshow('dst5', dst5)\n",
    "# cv2.imshow('dst9', dst9)\n",
    "# cv2.imshow('dst_bulr', dst_bulr)\n",
    "\n",
    "# cv2.waitKey()\n",
    "cv2.destroyAllWindows()"
   ]
  },
  {
   "cell_type": "markdown",
   "id": "5b6fcd3c",
   "metadata": {},
   "source": [
    "### 가우시안 필터\n",
    "- 질감, 색상 유지하면서 노이즈 제거 가능"
   ]
  },
  {
   "cell_type": "code",
   "execution_count": 3,
   "id": "78383fbf",
   "metadata": {},
   "outputs": [],
   "source": [
    "import matplotlib.pyplot as plt\n",
    "import numpy as np\n",
    "import cv2\n",
    "import sys\n",
    "\n",
    "src = cv2.imread('Ch_5_filtering/fig/blue_eyes.png')\n",
    "\n",
    "dst_gaussian_1 = cv2.GaussianBlur(src, (0, 0), 1)\n",
    "dst_gaussian_2 = cv2.GaussianBlur(src, (0, 0), 2)\n",
    "dst_gaussian_half = cv2.GaussianBlur(src, (0, 0), 0.5)\n",
    "\n",
    "dst_bulr = cv2.blur(src, (7, 7))\n",
    "\n",
    "\n",
    "cv2.imshow('src', src)\n",
    "cv2.imshow('dst_gaussian_1', dst_gaussian_1)\n",
    "cv2.imshow('dst_gaussian_2', dst_gaussian_2)\n",
    "cv2.imshow('dst_gaussian_half', dst_gaussian_half)\n",
    "cv2.imshow('dst_bulr', dst_bulr)\n",
    "\n",
    "cv2.waitKey()\n",
    "cv2.destroyAllWindows()"
   ]
  },
  {
   "cell_type": "markdown",
   "id": "c5fa3305",
   "metadata": {},
   "source": [
    "## 샤프닝 필터"
   ]
  },
  {
   "cell_type": "code",
   "execution_count": 15,
   "id": "2467d295",
   "metadata": {},
   "outputs": [],
   "source": [
    "import matplotlib.pyplot as plt\n",
    "import numpy as np\n",
    "import cv2\n",
    "import sys\n",
    "\n",
    "src = cv2.imread('Ch_5_filtering/fig/blue_eyes.png', 0)\n",
    "blur = src.copy()\n",
    "blur = cv2.GaussianBlur(blur, (0, 0), 3)\n",
    "\n",
    "\n",
    "# src * 2 - bulr\n",
    "# dst_sharp = np.clip(src*2.0 - blur, 0, 255).astype(np.uint8)\n",
    "dst_sharp2 = cv2.addWeighted(src, 2, blur, -1.3, 0)\n",
    "\n",
    "\n",
    "cv2.imshow('src', src)\n",
    "cv2.imshow('blur', blur)\n",
    "cv2.imshow('dst_sharp', dst_sharp2)\n",
    "\n",
    "cv2.waitKey()\n",
    "cv2.destroyAllWindows()"
   ]
  },
  {
   "cell_type": "markdown",
   "id": "70f2cf45",
   "metadata": {},
   "source": [
    "color"
   ]
  },
  {
   "cell_type": "code",
   "execution_count": 47,
   "id": "8acdd540",
   "metadata": {},
   "outputs": [],
   "source": [
    "import matplotlib.pyplot as plt\n",
    "import numpy as np\n",
    "import cv2\n",
    "import sys\n",
    "\n",
    "src = cv2.imread('Ch_5_filtering/fig/blue_eyes.png', 1)\n",
    "\n",
    "src_hsv = cv2.cvtColor(src, cv2.COLOR_BGR2HSV)\n",
    "h, s, v = cv2.split(src_hsv)\n",
    "\n",
    "gaussian_v = cv2.GaussianBlur(v, (0, 0), 2)\n",
    "src_hsv_g = cv2.merge((h, s, gaussian_v))\n",
    "\n",
    "dst = cv2.addWeighted(src_hsv, 2.2, src_hsv_g, -1.3, 0)\n",
    "dst = cv2.cvtColor(dst, cv2.COLOR_HSV2BGR)\n",
    "\n",
    "\n",
    "cv2.imshow('src', src)\n",
    "cv2.imshow('src_hsv_g', src_hsv_g)\n",
    "cv2.imshow('gaussian_v', gaussian_v)\n",
    "cv2.imshow('dst', dst)\n",
    "\n",
    "cv2.waitKey()\n",
    "cv2.destroyAllWindows()"
   ]
  },
  {
   "cell_type": "markdown",
   "id": "1d303518",
   "metadata": {},
   "source": [
    "## 잡음제거 필터 (Median filter)\n",
    "- 필터에 값이 있는게 아니라 영역을 지정하여 중간 값으로 대체한다"
   ]
  },
  {
   "cell_type": "code",
   "execution_count": 4,
   "id": "fef2ba2d",
   "metadata": {},
   "outputs": [
    {
     "name": "stdout",
     "output_type": "stream",
     "text": [
      "(553, 840)\n"
     ]
    }
   ],
   "source": [
    "import matplotlib.pyplot as plt\n",
    "import numpy as np\n",
    "import cv2\n",
    "import sys\n",
    "\n",
    "src = cv2.imread('Ch_5_filtering/fig/blue_eyes.png', 0)\n",
    "print(src.shape)\n",
    "\n",
    "noise1 = np.random.choice((0, 255), src.shape[:2], p = (0.90, 0.10))\n",
    "noise2 = np.random.choice((0, 255), src.shape[:2], p = (0.90, 0.10))\n",
    "\n",
    "src_noise = src + noise1 - noise2\n",
    "src_noise = np.clip(src_noise, 0, 255).astype(np.uint8)\n",
    "\n",
    "dst = cv2.medianBlur(src_noise, 5)\n",
    "\n",
    "cv2.imshow('src', src)\n",
    "cv2.imshow('src_noise', src_noise)\n",
    "cv2.imshow('dst', dst)\n",
    "\n",
    "cv2.waitKey()\n",
    "cv2.destroyAllWindows()"
   ]
  },
  {
   "cell_type": "markdown",
   "id": "40652615",
   "metadata": {},
   "source": [
    "## 양방향 필터\n",
    "- 이미지에 대한 비선형, 에지 보존 및 노이즈 감소 스무딩 필터"
   ]
  },
  {
   "cell_type": "code",
   "execution_count": 42,
   "id": "663e00ea",
   "metadata": {},
   "outputs": [],
   "source": [
    "import matplotlib.pyplot as plt\n",
    "import numpy as np\n",
    "import cv2\n",
    "import sys\n",
    "\n",
    "src = cv2.imread('Ch_5_filtering/fig/blue_eyes.png', 0)\n",
    "\n",
    "dst_gaussian = cv2.GaussianBlur(src, (0, 0), 3)\n",
    "dst_bilteral = cv2.bilateralFilter(src, -1, 10, 3)\n",
    "\n",
    "cv2.imshow('src', src)\n",
    "cv2.imshow('dst_gaussian', dst_gaussian)\n",
    "cv2.imshow('dst_bilteral', dst_bilteral)\n",
    "\n",
    "cv2.waitKey()\n",
    "cv2.destroyAllWindows()"
   ]
  },
  {
   "cell_type": "markdown",
   "id": "30853578",
   "metadata": {},
   "source": [
    "## Cartoon 이미지 만들기"
   ]
  },
  {
   "cell_type": "code",
   "execution_count": 47,
   "id": "8f1b6f62",
   "metadata": {},
   "outputs": [],
   "source": [
    "import matplotlib.pyplot as plt\n",
    "import numpy as np\n",
    "import cv2\n",
    "import sys\n",
    "\n",
    "src = cv2.imread('Ch_5_filtering/fig/Son.jpg')\n",
    "\n",
    "blur = cv2.GaussianBlur(src, (0, 0), 2)\n",
    "edge = cv2.Canny(src, 10, 150)\n",
    "\n",
    "# 구조화 요소 커널, 사각형 (3x3) 생성 ---①\n",
    "k = cv2.getStructuringElement(cv2.MORPH_RECT, (3, 3))\n",
    "# 팽창 연산 적용 ---②\n",
    "# edge = cv2.dilate(edge, k)\n",
    "edge = 255 - edge\n",
    "\n",
    "# print(edge.shape) # 흑백임\n",
    "edge = cv2.cvtColor(edge, cv2.COLOR_GRAY2BGR)  # BGR로 바꿔줌\n",
    "dst = cv2.bitwise_and(blur, edge)\n",
    "\n",
    "cartoon_img = cv2.stylization(src, sigma_s = 10, sigma_r=0.7)\n",
    "\n",
    "cv2.imshow('src', src)\n",
    "cv2.imshow('blur', blur)\n",
    "cv2.imshow('edge', edge)\n",
    "cv2.imshow('dst', dst)\n",
    "cv2.imshow('cartoon_img', cartoon_img)\n",
    "\n",
    "cv2.waitKey()\n",
    "cv2.destroyAllWindows()"
   ]
  },
  {
   "cell_type": "code",
   "execution_count": 44,
   "id": "e8347e2c",
   "metadata": {
    "scrolled": true
   },
   "outputs": [
    {
     "data": {
      "application/vnd.jupyter.widget-view+json": {
       "model_id": "6e8b2536d19e4c1084ecf8fa2e6cd92e",
       "version_major": 2,
       "version_minor": 0
      },
      "text/plain": [
       "interactive(children=(Dropdown(description='style', index=1, options=('detail', 'pencil', 'cartoon'), value='p…"
      ]
     },
     "metadata": {},
     "output_type": "display_data"
    }
   ],
   "source": [
    "import numpy as np \n",
    "import cv2\n",
    "import matplotlib.pyplot as plt\n",
    "import matplotlib.image as matim\n",
    "import ipywidgets as widgets\n",
    "\n",
    "img = cv2.imread('Ch_5_filtering/fig/Son.jpg')\n",
    "img = cv2.cvtColor(img, cv2.COLOR_BGR2RGB)\n",
    "\n",
    "@widgets.interact_manual(style = [\"detail\", \"pencil\", \"cartoon\"])\n",
    "def app(style=\"pencil\"):\n",
    "    \n",
    "    if style == \"detail\":\n",
    "        @widgets.interact_manual(s = (0, 200, 1), r = (0, 1, 0.1))\n",
    "        def dtail(s = 100, r = 0.5):\n",
    "            detailImg = cv2.detailEnhance(img, sigma_s = s, sigma_r = r)\n",
    "            plt.figure(figsize = (15, 8)) \n",
    "            plt.subplot(1,2,1)\n",
    "            plt.imshow(img)\n",
    "            plt.yticks([]), plt.xticks([]) # 눈금을 null 값으로 넣겠다. \n",
    "            plt.title(\"Original Image\")\n",
    "            plt.subplot(1,2,2)\n",
    "            plt.imshow(detailImg)\n",
    "            plt.title(\"Dtail Image\")\n",
    "            plt.yticks([]), plt.xticks([])\n",
    "            plt.show()\n",
    "            \n",
    "    elif style == \"pencil\":\n",
    "        def adjust_gamma(image, gamma = 1):\n",
    "            invGamma = 1.0 / gamma \n",
    "            table = np.array([\n",
    "                ((i/255)**invGamma) * 255 for i in np.arange(0, 256)\n",
    "            ])\n",
    "            lut_img = cv2.LUT(image.astype(np.uint8), table.astype(np.uint8))\n",
    "            return lut_img\n",
    "        @widgets.interact_manual(ksize=(3, 25, 2), sigmaX = (1, 15, 2), gamma = (0, 1, 0.01))\n",
    "        def pencil_art_image(ksize = 21, sigmaX = 9, gamma = 0.1):\n",
    "            gray = cv2.cvtColor(img, cv2.COLOR_BGR2GRAY)\n",
    "            gray_blur = cv2.GaussianBlur(gray, (ksize, ksize), sigmaX) \n",
    "            gray_blur_divide = cv2.divide(gray, gray_blur, scale = 256)\n",
    "            pencil_sketch = adjust_gamma(gray_blur_divide, gamma = gamma) \n",
    "\n",
    "            plt.figure(figsize = (15, 8))\n",
    "            plt.subplot(1, 2, 1)\n",
    "            plt.yticks([]), plt.xticks([])\n",
    "            plt.title(\"Original Image\")\n",
    "            plt.imshow(img)\n",
    "            plt.subplot(1, 2, 2)\n",
    "            plt.yticks([]), plt.xticks([])\n",
    "            plt.title(\"Pencil Image\")\n",
    "            plt.imshow(pencil_sketch, cmap = \"gray\")\n",
    "            plt.show()\n",
    "            \n",
    "    elif style == \"cartoon\":\n",
    "        def edge_mask(img, ksize, block_size):\n",
    "            gray = cv2.cvtColor(img, cv2.COLOR_BGR2GRAY)\n",
    "            gray_median = cv2.medianBlur(gray, ksize)\n",
    "            edges = cv2.adaptiveThreshold(gray_median, 255, \n",
    "                cv2.ADAPTIVE_THRESH_MEAN_C, cv2.THRESH_BINARY, block_size, ksize)\n",
    "            return edges \n",
    "\n",
    "        def kmeans_cluster(img, k):\n",
    "            data = np.float32(img).reshape((-1, 3))\n",
    "\n",
    "            criteria = (cv2.TERM_CRITERIA_EPS + cv2.TERM_CRITERIA_MAX_ITER, 20, 0.001)\n",
    "\n",
    "            ret, label, center = cv2.kmeans(data, k, None, criteria, \n",
    "                5, cv2.KMEANS_RANDOM_CENTERS)\n",
    "            center = np.uint8(center)\n",
    "            result = center[label.flatten()]\n",
    "            result = result.reshape(img.shape)\n",
    "            return result\n",
    "        \n",
    "        @widgets.interact_manual(ksize = (3, 25, 2), \n",
    "        block_size = (1, 21, 2), k = (1, 20, 1), d = (5, 15, 2), \n",
    "        sigmacolor = (1, 300),sigmaspace = (1, 300))\n",
    "\n",
    "        def cartoon_image(ksize = 5, \n",
    "        block_size = 7, k = 7, d = 7, sigmacolor = 200, sigmaspace = 200):\n",
    "            edge_Mask = edge_mask(img, ksize, block_size)\n",
    "            cluster_img = kmeans_cluster(img, k)\n",
    "            bilateral = cv2.bilateralFilter(cluster_img, d=d, \n",
    "            sigmaColor=sigmacolor, sigmaSpace=sigmaspace)\n",
    "            cartoon = cv2.bitwise_and(bilateral, bilateral, mask = edge_Mask)\n",
    "\n",
    "            plt.figure(figsize = (15, 8))\n",
    "            plt.subplot(1, 2, 1)\n",
    "            plt.yticks([]), plt.xticks([])\n",
    "            plt.title(\"Original Image\")\n",
    "            plt.imshow(img)\n",
    "            plt.subplot(1, 2, 2)\n",
    "            plt.yticks([]), plt.xticks([])\n",
    "            plt.title(\"Cartoon Image\")\n",
    "            plt.imshow(cartoon)\n",
    "            plt.show()\n",
    "            \n",
    "            \n",
    "# https://github.com/junseongwoo/Image_to_Cartoon_Image"
   ]
  },
  {
   "cell_type": "markdown",
   "id": "8e6d2e45",
   "metadata": {},
   "source": [
    "# 기하학적 변환 (Geometric transformation)"
   ]
  },
  {
   "cell_type": "markdown",
   "id": "9abe40ff",
   "metadata": {},
   "source": [
    "## 이동변환 (translate)"
   ]
  },
  {
   "cell_type": "code",
   "execution_count": 69,
   "id": "878fb024",
   "metadata": {},
   "outputs": [],
   "source": [
    "import sys\n",
    "import numpy as np\n",
    "import cv2\n",
    "\n",
    "\n",
    "src = cv2.imread('Ch_2_Opencv_basic/fig/puppy.bmp')\n",
    "\n",
    "if src is None:\n",
    "    print('Image load failed!')\n",
    "    sys.exit()\n",
    "\n",
    "affine = np.array([[2, 1, 30],\n",
    "                  [0, 1.5, 50]], np.float32)\n",
    "\n",
    "dst = cv2.warpAffine(src, affine, (1000, 800))\n",
    "# dst = cv2.warpAffine(src, affine, (0, 0),\n",
    "#                      borderMode = cv2.BORDER_CONSTANT,\n",
    "#                     borderValue = (255, 255, 255))\n",
    "\n",
    "cv2.imshow('src', src)\n",
    "cv2.imshow('dst', dst)\n",
    "cv2.waitKey()\n",
    "cv2.destroyAllWindows()"
   ]
  },
  {
   "cell_type": "code",
   "execution_count": 72,
   "id": "5d4348c2",
   "metadata": {},
   "outputs": [],
   "source": [
    "import sys\n",
    "import numpy as np\n",
    "import cv2\n",
    "\n",
    "src = cv2.imread('Ch_6_geometric_trans/fig/rose.jpg')\n",
    "\n",
    "dst = cv2.resize(src, (600, 500),\n",
    "                interpolation = cv2.INTER_LINEAR)\n",
    "dst2 = cv2.resize(src, (600, 500),\n",
    "                interpolation = cv2.INTER_CUBIC)\n",
    "\n",
    "if src is None:\n",
    "    print('Image load failed!')\n",
    "    sys.exit()\n",
    "    \n",
    "cv2.imshow('src', src)\n",
    "cv2.imshow('dst', dst)\n",
    "cv2.imshow('dst2', dst2)\n",
    "\n",
    "cv2.waitKey()\n",
    "cv2.destroyAllWindows()"
   ]
  },
  {
   "cell_type": "markdown",
   "id": "f85f20f5",
   "metadata": {},
   "source": [
    "## 회전변환 (Rotation)"
   ]
  },
  {
   "cell_type": "code",
   "execution_count": 74,
   "id": "9d04d0e6",
   "metadata": {},
   "outputs": [],
   "source": [
    "import sys\n",
    "import numpy as np\n",
    "import cv2\n",
    "\n",
    "src = cv2.imread('Ch_6_geometric_trans/fig/puppy.bmp')\n",
    "if src is None:\n",
    "    print('Image load failed!')\n",
    "    sys.exit()\n",
    "    \n",
    "h, w = src.shape[:2]\n",
    "rot_affine = cv2.getRotationMatrix2D((w//2, h//2), 20, 1)\n",
    "\n",
    "dst = cv2.warpAffine(src, rot_affine, (0, 0))\n",
    "    \n",
    "cv2.imshow('src', src)\n",
    "cv2.imshow('dst', dst)\n",
    "\n",
    "cv2.waitKey()\n",
    "cv2.destroyAllWindows()"
   ]
  },
  {
   "cell_type": "code",
   "execution_count": 45,
   "id": "0e724666",
   "metadata": {},
   "outputs": [
    {
     "name": "stdout",
     "output_type": "stream",
     "text": [
      "Requirement already satisfied: ipywidgets in c:\\programdata\\anaconda3\\lib\\site-packages (7.6.5)\n",
      "Requirement already satisfied: widgetsnbextension~=3.5.0 in c:\\programdata\\anaconda3\\lib\\site-packages (from ipywidgets) (3.5.1)\n",
      "Requirement already satisfied: nbformat>=4.2.0 in c:\\programdata\\anaconda3\\lib\\site-packages (from ipywidgets) (5.1.3)\n",
      "Requirement already satisfied: ipykernel>=4.5.1 in c:\\programdata\\anaconda3\\lib\\site-packages (from ipywidgets) (6.4.1)\n",
      "Requirement already satisfied: traitlets>=4.3.1 in c:\\programdata\\anaconda3\\lib\\site-packages (from ipywidgets) (5.1.1)\n",
      "Requirement already satisfied: ipython-genutils~=0.2.0 in c:\\programdata\\anaconda3\\lib\\site-packages (from ipywidgets) (0.2.0)\n",
      "Requirement already satisfied: jupyterlab-widgets>=1.0.0 in c:\\programdata\\anaconda3\\lib\\site-packages (from ipywidgets) (1.0.0)\n",
      "Requirement already satisfied: ipython>=4.0.0 in c:\\programdata\\anaconda3\\lib\\site-packages (from ipywidgets) (7.29.0)\n",
      "Requirement already satisfied: debugpy<2.0,>=1.0.0 in c:\\programdata\\anaconda3\\lib\\site-packages (from ipykernel>=4.5.1->ipywidgets) (1.5.1)\n",
      "Requirement already satisfied: matplotlib-inline<0.2.0,>=0.1.0 in c:\\programdata\\anaconda3\\lib\\site-packages (from ipykernel>=4.5.1->ipywidgets) (0.1.2)\n",
      "Requirement already satisfied: tornado<7.0,>=4.2 in c:\\programdata\\anaconda3\\lib\\site-packages (from ipykernel>=4.5.1->ipywidgets) (6.1)\n",
      "Requirement already satisfied: jupyter-client<8.0 in c:\\programdata\\anaconda3\\lib\\site-packages (from ipykernel>=4.5.1->ipywidgets) (6.1.12)\n",
      "Requirement already satisfied: setuptools>=18.5 in c:\\programdata\\anaconda3\\lib\\site-packages (from ipython>=4.0.0->ipywidgets) (58.0.4)\n",
      "Requirement already satisfied: pygments in c:\\programdata\\anaconda3\\lib\\site-packages (from ipython>=4.0.0->ipywidgets) (2.10.0)\n",
      "Requirement already satisfied: colorama in c:\\programdata\\anaconda3\\lib\\site-packages (from ipython>=4.0.0->ipywidgets) (0.4.4)\n",
      "Requirement already satisfied: jedi>=0.16 in c:\\programdata\\anaconda3\\lib\\site-packages (from ipython>=4.0.0->ipywidgets) (0.18.0)\n",
      "Requirement already satisfied: decorator in c:\\programdata\\anaconda3\\lib\\site-packages (from ipython>=4.0.0->ipywidgets) (5.1.0)\n",
      "Requirement already satisfied: pickleshare in c:\\programdata\\anaconda3\\lib\\site-packages (from ipython>=4.0.0->ipywidgets) (0.7.5)\n",
      "Requirement already satisfied: backcall in c:\\programdata\\anaconda3\\lib\\site-packages (from ipython>=4.0.0->ipywidgets) (0.2.0)\n",
      "Requirement already satisfied: prompt-toolkit!=3.0.0,!=3.0.1,<3.1.0,>=2.0.0 in c:\\programdata\\anaconda3\\lib\\site-packages (from ipython>=4.0.0->ipywidgets) (3.0.20)\n",
      "Requirement already satisfied: parso<0.9.0,>=0.8.0 in c:\\programdata\\anaconda3\\lib\\site-packages (from jedi>=0.16->ipython>=4.0.0->ipywidgets) (0.8.3)\n",
      "Requirement already satisfied: python-dateutil>=2.1 in c:\\programdata\\anaconda3\\lib\\site-packages (from jupyter-client<8.0->ipykernel>=4.5.1->ipywidgets) (2.8.2)\n",
      "Requirement already satisfied: pyzmq>=13 in c:\\programdata\\anaconda3\\lib\\site-packages (from jupyter-client<8.0->ipykernel>=4.5.1->ipywidgets) (22.3.0)\n",
      "Requirement already satisfied: jupyter-core>=4.6.0 in c:\\programdata\\anaconda3\\lib\\site-packages (from jupyter-client<8.0->ipykernel>=4.5.1->ipywidgets) (4.9.1)\n",
      "Requirement already satisfied: pywin32>=1.0 in c:\\programdata\\anaconda3\\lib\\site-packages (from jupyter-core>=4.6.0->jupyter-client<8.0->ipykernel>=4.5.1->ipywidgets) (302)\n",
      "Requirement already satisfied: jsonschema!=2.5.0,>=2.4 in c:\\programdata\\anaconda3\\lib\\site-packages (from nbformat>=4.2.0->ipywidgets) (3.2.0)\n",
      "Requirement already satisfied: pyrsistent>=0.14.0 in c:\\programdata\\anaconda3\\lib\\site-packages (from jsonschema!=2.5.0,>=2.4->nbformat>=4.2.0->ipywidgets) (0.18.0)\n",
      "Requirement already satisfied: attrs>=17.4.0 in c:\\programdata\\anaconda3\\lib\\site-packages (from jsonschema!=2.5.0,>=2.4->nbformat>=4.2.0->ipywidgets) (21.4.0)\n",
      "Requirement already satisfied: six>=1.11.0 in c:\\programdata\\anaconda3\\lib\\site-packages (from jsonschema!=2.5.0,>=2.4->nbformat>=4.2.0->ipywidgets) (1.16.0)\n",
      "Requirement already satisfied: wcwidth in c:\\programdata\\anaconda3\\lib\\site-packages (from prompt-toolkit!=3.0.0,!=3.0.1,<3.1.0,>=2.0.0->ipython>=4.0.0->ipywidgets) (0.2.5)\n",
      "Requirement already satisfied: notebook>=4.4.1 in c:\\programdata\\anaconda3\\lib\\site-packages (from widgetsnbextension~=3.5.0->ipywidgets) (6.4.6)\n",
      "Requirement already satisfied: jinja2 in c:\\programdata\\anaconda3\\lib\\site-packages (from notebook>=4.4.1->widgetsnbextension~=3.5.0->ipywidgets) (2.11.3)\n",
      "Requirement already satisfied: terminado>=0.8.3 in c:\\programdata\\anaconda3\\lib\\site-packages (from notebook>=4.4.1->widgetsnbextension~=3.5.0->ipywidgets) (0.9.4)\n",
      "Requirement already satisfied: Send2Trash>=1.8.0 in c:\\programdata\\anaconda3\\lib\\site-packages (from notebook>=4.4.1->widgetsnbextension~=3.5.0->ipywidgets) (1.8.0)\n",
      "Requirement already satisfied: nbconvert in c:\\programdata\\anaconda3\\lib\\site-packages (from notebook>=4.4.1->widgetsnbextension~=3.5.0->ipywidgets) (6.1.0)\n",
      "Requirement already satisfied: argon2-cffi in c:\\programdata\\anaconda3\\lib\\site-packages (from notebook>=4.4.1->widgetsnbextension~=3.5.0->ipywidgets) (20.1.0)\n",
      "Requirement already satisfied: nest-asyncio>=1.5 in c:\\programdata\\anaconda3\\lib\\site-packages (from notebook>=4.4.1->widgetsnbextension~=3.5.0->ipywidgets) (1.5.1)\n",
      "Requirement already satisfied: prometheus-client in c:\\programdata\\anaconda3\\lib\\site-packages (from notebook>=4.4.1->widgetsnbextension~=3.5.0->ipywidgets) (0.12.0)\n",
      "Requirement already satisfied: pywinpty>=0.5 in c:\\programdata\\anaconda3\\lib\\site-packages (from terminado>=0.8.3->notebook>=4.4.1->widgetsnbextension~=3.5.0->ipywidgets) (0.5.7)\n",
      "Requirement already satisfied: cffi>=1.0.0 in c:\\programdata\\anaconda3\\lib\\site-packages (from argon2-cffi->notebook>=4.4.1->widgetsnbextension~=3.5.0->ipywidgets) (1.15.0)\n",
      "Requirement already satisfied: pycparser in c:\\programdata\\anaconda3\\lib\\site-packages (from cffi>=1.0.0->argon2-cffi->notebook>=4.4.1->widgetsnbextension~=3.5.0->ipywidgets) (2.21)\n",
      "Requirement already satisfied: MarkupSafe>=0.23 in c:\\programdata\\anaconda3\\lib\\site-packages (from jinja2->notebook>=4.4.1->widgetsnbextension~=3.5.0->ipywidgets) (1.1.1)\n",
      "Requirement already satisfied: pandocfilters>=1.4.1 in c:\\programdata\\anaconda3\\lib\\site-packages (from nbconvert->notebook>=4.4.1->widgetsnbextension~=3.5.0->ipywidgets) (1.4.3)\n",
      "Requirement already satisfied: bleach in c:\\programdata\\anaconda3\\lib\\site-packages (from nbconvert->notebook>=4.4.1->widgetsnbextension~=3.5.0->ipywidgets) (4.1.0)\n",
      "Requirement already satisfied: entrypoints>=0.2.2 in c:\\programdata\\anaconda3\\lib\\site-packages (from nbconvert->notebook>=4.4.1->widgetsnbextension~=3.5.0->ipywidgets) (0.3)\n",
      "Requirement already satisfied: mistune<2,>=0.8.1 in c:\\programdata\\anaconda3\\lib\\site-packages (from nbconvert->notebook>=4.4.1->widgetsnbextension~=3.5.0->ipywidgets) (0.8.4)\n",
      "Requirement already satisfied: testpath in c:\\programdata\\anaconda3\\lib\\site-packages (from nbconvert->notebook>=4.4.1->widgetsnbextension~=3.5.0->ipywidgets) (0.5.0)\n",
      "Requirement already satisfied: nbclient<0.6.0,>=0.5.0 in c:\\programdata\\anaconda3\\lib\\site-packages (from nbconvert->notebook>=4.4.1->widgetsnbextension~=3.5.0->ipywidgets) (0.5.3)\n",
      "Requirement already satisfied: defusedxml in c:\\programdata\\anaconda3\\lib\\site-packages (from nbconvert->notebook>=4.4.1->widgetsnbextension~=3.5.0->ipywidgets) (0.7.1)\n",
      "Requirement already satisfied: jupyterlab-pygments in c:\\programdata\\anaconda3\\lib\\site-packages (from nbconvert->notebook>=4.4.1->widgetsnbextension~=3.5.0->ipywidgets) (0.1.2)\n",
      "Requirement already satisfied: async-generator in c:\\programdata\\anaconda3\\lib\\site-packages (from nbclient<0.6.0,>=0.5.0->nbconvert->notebook>=4.4.1->widgetsnbextension~=3.5.0->ipywidgets) (1.10)\n",
      "Requirement already satisfied: webencodings in c:\\programdata\\anaconda3\\lib\\site-packages (from bleach->nbconvert->notebook>=4.4.1->widgetsnbextension~=3.5.0->ipywidgets) (0.5.1)\n",
      "Requirement already satisfied: packaging in c:\\programdata\\anaconda3\\lib\\site-packages (from bleach->nbconvert->notebook>=4.4.1->widgetsnbextension~=3.5.0->ipywidgets) (21.3)\n",
      "Requirement already satisfied: pyparsing!=3.0.5,>=2.0.2 in c:\\programdata\\anaconda3\\lib\\site-packages (from packaging->bleach->nbconvert->notebook>=4.4.1->widgetsnbextension~=3.5.0->ipywidgets) (3.0.4)\n"
     ]
    },
    {
     "name": "stderr",
     "output_type": "stream",
     "text": [
      "WARNING: You are using pip version 21.3.1; however, version 22.0.3 is available.\n",
      "You should consider upgrading via the 'C:\\ProgramData\\Anaconda3\\python.exe -m pip install --upgrade pip' command.\n"
     ]
    }
   ],
   "source": [
    "!pip install ipywidgets"
   ]
  },
  {
   "cell_type": "code",
   "execution_count": 46,
   "id": "78ac242b",
   "metadata": {},
   "outputs": [],
   "source": [
    "import ipywidgets as widgets\n",
    "from ipywidgets import interact, interactive, fixed, interact_manual\n",
    "import ipywidgets as widgets"
   ]
  },
  {
   "cell_type": "code",
   "execution_count": 51,
   "id": "496c1ed3",
   "metadata": {},
   "outputs": [
    {
     "data": {
      "application/vnd.jupyter.widget-view+json": {
       "model_id": "7e89ebf2b77b4b29a579843a609d1a21",
       "version_major": 2,
       "version_minor": 0
      },
      "text/plain": [
       "interactive(children=(FloatSlider(value=2.5, description='k', max=5.0), Output()), _dom_classes=('widget-inter…"
      ]
     },
     "metadata": {},
     "output_type": "display_data"
    },
    {
     "data": {
      "text/plain": [
       "<function __main__.f(k)>"
      ]
     },
     "execution_count": 51,
     "metadata": {},
     "output_type": "execute_result"
    }
   ],
   "source": [
    "%matplotlib inline\n",
    "import matplotlib.pyplot as plt\n",
    "from ipywidgets import interact\n",
    "import numpy as np\n",
    "\n",
    "def f(k):\n",
    "    x = np.linspace(0, 10, num=1000)\n",
    "    y = np.sin(k*x)\n",
    "    plt.plot(x, y)\n",
    "    plt.show()\n",
    "    \n",
    "interact(f, k=(0.0,5.0,0.1) )"
   ]
  },
  {
   "cell_type": "code",
   "execution_count": 75,
   "id": "b38c2925",
   "metadata": {
    "scrolled": false
   },
   "outputs": [
    {
     "data": {
      "application/vnd.jupyter.widget-view+json": {
       "model_id": "ca64cd80ca334719a278e0b24e5fcdfd",
       "version_major": 2,
       "version_minor": 0
      },
      "text/plain": [
       "interactive(children=(IntSlider(value=24, description='k', max=49), Output()), _dom_classes=('widget-interact'…"
      ]
     },
     "metadata": {},
     "output_type": "display_data"
    },
    {
     "data": {
      "text/plain": [
       "<function __main__.f(k)>"
      ]
     },
     "execution_count": 75,
     "metadata": {},
     "output_type": "execute_result"
    }
   ],
   "source": [
    "%matplotlib inline\n",
    "import matplotlib.pyplot as plt\n",
    "from ipywidgets import interact\n",
    "import numpy as np\n",
    "\n",
    "x = np.linspace(0, 2*np.pi, num=5000)\n",
    "y = []\n",
    "param = 50\n",
    "\n",
    "for i in range(1,param+1):\n",
    "    y.append([np.sin(i*j) for j in x])\n",
    "    \n",
    "def f(k):\n",
    "    plt.plot(x, y[k])\n",
    "    plt.show()\n",
    "    \n",
    "interact(f, k=(0,param-1) )"
   ]
  },
  {
   "cell_type": "code",
   "execution_count": 66,
   "id": "fb549ac5",
   "metadata": {},
   "outputs": [
    {
     "data": {
      "application/vnd.jupyter.widget-view+json": {
       "model_id": "9ce0bcf7d2454d19a575a62670b8d473",
       "version_major": 2,
       "version_minor": 0
      },
      "text/plain": [
       "interactive(children=(IntSlider(value=24, description='k', max=49), Dropdown(description='mode', options=('A',…"
      ]
     },
     "metadata": {},
     "output_type": "display_data"
    }
   ],
   "source": [
    "%matplotlib inline\n",
    "import matplotlib.pyplot as plt\n",
    "from ipywidgets import interact\n",
    "import numpy as np\n",
    "\n",
    "x = np.linspace(0, 2*np.pi, num=5000)\n",
    "y1, y2 = [], []\n",
    "\n",
    "param = 50\n",
    "\n",
    "for i in range(1,param+1):\n",
    "    y1.append([np.sin(i*j) for j in x])\n",
    "    y2.append([np.cos(i*j)+np.cos(j) for j in x])\n",
    "    \n",
    "@interact(k=(0,param-1), mode=['A','B', 'C'])\n",
    "def f(k,mode):\n",
    "    if mode=='A':\n",
    "        plt.plot(x, y1[k])\n",
    "    elif mode=='B':\n",
    "        plt.plot(x, y2[k])\n",
    "    else:\n",
    "        print('Error')\n",
    "        \n",
    "    plt.show()"
   ]
  },
  {
   "cell_type": "code",
   "execution_count": 67,
   "id": "62a2abc3",
   "metadata": {},
   "outputs": [
    {
     "data": {
      "application/vnd.jupyter.widget-view+json": {
       "model_id": "836d80902e1349eaaf77f8b7f9eec092",
       "version_major": 2,
       "version_minor": 0
      },
      "text/plain": [
       "interactive(children=(IntSlider(value=24, description='k', max=49), Output()), _dom_classes=('widget-interact'…"
      ]
     },
     "metadata": {},
     "output_type": "display_data"
    }
   ],
   "source": [
    "x = np.linspace(0, 2*np.pi, num=5000)\n",
    "y, y1, y2, y3 = [], [], [], []\n",
    "\n",
    "param = 50\n",
    "\n",
    "for i in range(1,param+1):\n",
    "    y1.append([np.sin(i*j) for j in x])\n",
    "    y2.append([np.cos(i*j)+np.cos(j) for j in x])\n",
    "    y3.append([np.tan(i*j)+np.cos(j) for j in x])\n",
    "\n",
    "y = [y1, y2, y3]\n",
    "\n",
    "# 그래프를 생성\n",
    "@interact(k=(0,param-1))\n",
    "def f(k):\n",
    "    fig = plt.figure(figsize=(17,4))\n",
    "\n",
    "    # 타이틀을 배열에 저장\n",
    "    title=['title1','title2','title3']    \n",
    "\n",
    "    # 그래프 간의 폭을 조정\n",
    "    plt.subplots_adjust(wspace=0.25, hspace=0.6)\n",
    "\n",
    "    for i in range(3):\n",
    "        ax = fig.add_subplot(1, 3, i+1)\n",
    "        ax.plot(x, y[i][k])\n",
    "        ax.set_xlabel('x-axis label') # x축의 라벨\n",
    "        ax.set_ylabel('y-axis label') # y축의 라벨\n",
    "        ax.set_title(title[i]) # 타이틀\n",
    "\n",
    "    plt.show()"
   ]
  },
  {
   "cell_type": "code",
   "execution_count": 68,
   "id": "0d397189",
   "metadata": {},
   "outputs": [
    {
     "data": {
      "application/vnd.jupyter.widget-view+json": {
       "model_id": "2477b0b607114e7c927aa1cbcbdbc0e4",
       "version_major": 2,
       "version_minor": 0
      },
      "text/plain": [
       "interactive(children=(IntSlider(value=24, description='k', max=49), Output()), _dom_classes=('widget-interact'…"
      ]
     },
     "metadata": {},
     "output_type": "display_data"
    }
   ],
   "source": [
    "%matplotlib inline\n",
    "import matplotlib.pyplot as plt\n",
    "from ipywidgets import interact\n",
    "import numpy as np\n",
    "\n",
    "x = np.linspace(0, 2*np.pi, num=5000)\n",
    "y, y1, y2, y3 = [], [], [], []\n",
    "\n",
    "param = 50\n",
    "\n",
    "for i in range(1,param+1):\n",
    "    y1.append([np.sin(i*j) for j in x])\n",
    "    y2.append([np.cos(i*j)+np.cos(j) for j in x])\n",
    "    y3.append([np.tan(i*j)+np.cos(j) for j in x])\n",
    "\n",
    "y = [y1, y2, y3]\n",
    "\n",
    "# 그래프를 생성한다.\n",
    "@interact(k=(0,param-1))\n",
    "def f(k):\n",
    "    fig = plt.figure(figsize=(10,10))\n",
    "\n",
    "    # 타이틀을 배열에 저장한다.\n",
    "    title=['title1','title2','title3']    \n",
    "\n",
    "    # 그래프 간의 폭을 조정한다.\n",
    "    plt.subplots_adjust(wspace=0.2, hspace=0.6)\n",
    "\n",
    "    for i in range(3):\n",
    "        ax = fig.add_subplot(3, 1, i+1)\n",
    "        ax.plot(x, y[i][k])\n",
    "        ax.set_xlabel('x-axis label') # x축의 라벨\n",
    "        ax.set_ylabel('y-axis label') # y축의 라벨\n",
    "        ax.set_title(title[i]) # 타이틀\n",
    "\n",
    "    plt.show()"
   ]
  },
  {
   "cell_type": "code",
   "execution_count": 71,
   "id": "f46243d5",
   "metadata": {},
   "outputs": [
    {
     "data": {
      "text/html": [
       "<div>\n",
       "<style scoped>\n",
       "    .dataframe tbody tr th:only-of-type {\n",
       "        vertical-align: middle;\n",
       "    }\n",
       "\n",
       "    .dataframe tbody tr th {\n",
       "        vertical-align: top;\n",
       "    }\n",
       "\n",
       "    .dataframe thead th {\n",
       "        text-align: right;\n",
       "    }\n",
       "</style>\n",
       "<table border=\"1\" class=\"dataframe\">\n",
       "  <thead>\n",
       "    <tr style=\"text-align: right;\">\n",
       "      <th></th>\n",
       "      <th>Feature1</th>\n",
       "      <th>Feature2</th>\n",
       "      <th>Feature3</th>\n",
       "    </tr>\n",
       "  </thead>\n",
       "  <tbody>\n",
       "    <tr>\n",
       "      <th>0</th>\n",
       "      <td>6.554601</td>\n",
       "      <td>1.429141</td>\n",
       "      <td>8.007380</td>\n",
       "    </tr>\n",
       "    <tr>\n",
       "      <th>1</th>\n",
       "      <td>9.160206</td>\n",
       "      <td>2.997878</td>\n",
       "      <td>1.796959</td>\n",
       "    </tr>\n",
       "    <tr>\n",
       "      <th>2</th>\n",
       "      <td>8.271171</td>\n",
       "      <td>3.152951</td>\n",
       "      <td>6.801186</td>\n",
       "    </tr>\n",
       "    <tr>\n",
       "      <th>3</th>\n",
       "      <td>5.493448</td>\n",
       "      <td>5.327233</td>\n",
       "      <td>0.324195</td>\n",
       "    </tr>\n",
       "    <tr>\n",
       "      <th>4</th>\n",
       "      <td>8.024908</td>\n",
       "      <td>2.407495</td>\n",
       "      <td>2.322392</td>\n",
       "    </tr>\n",
       "  </tbody>\n",
       "</table>\n",
       "</div>"
      ],
      "text/plain": [
       "   Feature1  Feature2  Feature3\n",
       "0  6.554601  1.429141  8.007380\n",
       "1  9.160206  2.997878  1.796959\n",
       "2  8.271171  3.152951  6.801186\n",
       "3  5.493448  5.327233  0.324195\n",
       "4  8.024908  2.407495  2.322392"
      ]
     },
     "execution_count": 71,
     "metadata": {},
     "output_type": "execute_result"
    }
   ],
   "source": [
    "import numpy as np\n",
    "import pandas as pd\n",
    "from sklearn import datasets\n",
    "import ipywidgets as widgets\n",
    "from ipywidgets import interact, interact_manual\n",
    "# import cufflinks as cf\n",
    "# cf.go_offline(connected=True)\n",
    "\n",
    "df = pd.DataFrame(np.random.random([100,3]) * 10)\n",
    "df.columns = ['Feature1','Feature2','Feature3']\n",
    "df.head()"
   ]
  },
  {
   "cell_type": "code",
   "execution_count": 73,
   "id": "6caea318",
   "metadata": {},
   "outputs": [
    {
     "data": {
      "application/vnd.jupyter.widget-view+json": {
       "model_id": "5341524c37914a79b9af5d7ae1f286cf",
       "version_major": 2,
       "version_minor": 0
      },
      "text/plain": [
       "interactive(children=(Dropdown(description='column', options=('Feature1', 'Feature2', 'Feature3'), value='Feat…"
      ]
     },
     "metadata": {},
     "output_type": "display_data"
    }
   ],
   "source": [
    "@interact\n",
    "def show_data_more_than(column=['Feature1', 'Feature2','Feature3'], \n",
    "                        x=(0,10,1)):\n",
    "    return df.loc[df[column] > x]"
   ]
  }
 ],
 "metadata": {
  "kernelspec": {
   "display_name": "Python 3 (ipykernel)",
   "language": "python",
   "name": "python3"
  },
  "language_info": {
   "codemirror_mode": {
    "name": "ipython",
    "version": 3
   },
   "file_extension": ".py",
   "mimetype": "text/x-python",
   "name": "python",
   "nbconvert_exporter": "python",
   "pygments_lexer": "ipython3",
   "version": "3.9.7"
  }
 },
 "nbformat": 4,
 "nbformat_minor": 5
}
