{
 "cells": [
  {
   "cell_type": "markdown",
   "id": "518ae346",
   "metadata": {},
   "source": [
    "## 파이썬 문법 기초"
   ]
  },
  {
   "cell_type": "code",
   "execution_count": 6,
   "id": "8a61a94f",
   "metadata": {},
   "outputs": [
    {
     "name": "stdout",
     "output_type": "stream",
     "text": [
      "이름\t지역\t나이\n"
     ]
    }
   ],
   "source": [
    "#탭 만큼 띄어쓰기 가능\n",
    "print(\"이름\\t지역\\t나이\")"
   ]
  },
  {
   "cell_type": "code",
   "execution_count": 7,
   "id": "762e439a",
   "metadata": {},
   "outputs": [
    {
     "name": "stdout",
     "output_type": "stream",
     "text": [
      "동해물과 백두산이 마르고 닳도록\n",
      "하나님이 보호하사 우리나라 만세\n",
      "무궁화 삼천리 화려 강산\n",
      "대한사람 대한으로 길이 보전하세\n"
     ]
    }
   ],
   "source": [
    "#\"\"\"\"\"\" 를 사용하면 모든 줄에 주석 작성 가능\n",
    "print(\"\"\"동해물과 백두산이 마르고 닳도록\n",
    "하나님이 보호하사 우리나라 만세\n",
    "무궁화 삼천리 화려 강산\n",
    "대한사람 대한으로 길이 보전하세\"\"\")"
   ]
  },
  {
   "cell_type": "code",
   "execution_count": 8,
   "id": "ddc8ecff",
   "metadata": {},
   "outputs": [
    {
     "name": "stdout",
     "output_type": "stream",
     "text": [
      "동해물과 백두산이마르고 닳도록\n"
     ]
    }
   ],
   "source": [
    "#코드가 길어서 화면이 넘어간다면 \\로 연결 가능\n",
    "print(\"동해물과 백두산이\\\n",
    "마르고 닳도록\")"
   ]
  },
  {
   "cell_type": "code",
   "execution_count": 9,
   "id": "968359b4",
   "metadata": {},
   "outputs": [
    {
     "name": "stdout",
     "output_type": "stream",
     "text": [
      "많은 줄을 주석처리 하려면 ctrl + /을 이용\n"
     ]
    }
   ],
   "source": [
    "print(\"많은 줄을 주석처리 하려면 ctrl + /을 이용\")"
   ]
  },
  {
   "cell_type": "code",
   "execution_count": 10,
   "id": "3b3d48e4",
   "metadata": {},
   "outputs": [
    {
     "name": "stdout",
     "output_type": "stream",
     "text": [
      "테스트test\n",
      "테스트테스트테스트\n"
     ]
    }
   ],
   "source": [
    "#문자열 연산자\n",
    "print(\"테스트\" + \"test\")\n",
    "print(\"테스트\" * 3)"
   ]
  },
  {
   "cell_type": "code",
   "execution_count": 11,
   "id": "c5d8c875",
   "metadata": {},
   "outputs": [
    {
     "name": "stdout",
     "output_type": "stream",
     "text": [
      "h\n",
      "g\n",
      "ell\n",
      "hello str\n",
      "string\n"
     ]
    }
   ],
   "source": [
    "#문자 슬라이싱 -> [시작 인덱스 : 끝 인덱스] 끝은 포함하지 않습니다.\n",
    "print(\"hello string\"[0])\n",
    "print(\"hello string\"[-1])\n",
    "print(\"hello string\"[1:4])\n",
    "print(\"hello string\"[0:-3])\n",
    "print(\"hello string\"[6:])"
   ]
  },
  {
   "cell_type": "code",
   "execution_count": 12,
   "id": "1b112773",
   "metadata": {},
   "outputs": [
    {
     "name": "stdout",
     "output_type": "stream",
     "text": [
      "20\n",
      "3.3333333333333335\n",
      "3\n",
      "1\n",
      "16\n"
     ]
    }
   ],
   "source": [
    "#숫자 연산\n",
    "print(10 + 10) # 더하기\n",
    "priint(20 - 10) # 빼기\n",
    "print(10 / 3) # 나눈 몫\n",
    "print(10 // 3) # 나눈 몫 정수\n",
    "print(10 % 3) # 나눈 나머지\n",
    "print(2 ** 4) #제곱 2^4"
   ]
  },
  {
   "cell_type": "code",
   "execution_count": 18,
   "id": "a28658f7",
   "metadata": {},
   "outputs": [
    {
     "name": "stdout",
     "output_type": "stream",
     "text": [
      "3.141592\n",
      "7.141592\n",
      "<class 'float'>\n",
      "pi =  string test\n",
      "<class 'str'>\n",
      "70\n"
     ]
    }
   ],
   "source": [
    "#변수를 이용한 연산\n",
    "pi =  3.141592\n",
    "print(pi)\n",
    "print(pi + 4)\n",
    "print(type(pi))\n",
    "\n",
    "pi = 'string test'\n",
    "print('pi = ', pi)\n",
    "print(type(pi))\n",
    "\n",
    "number = 10\n",
    "number += 10 # number = number + 10\n",
    "number += 20\n",
    "number += 30\n",
    "print(number)"
   ]
  },
  {
   "cell_type": "code",
   "execution_count": 20,
   "id": "79b721da",
   "metadata": {},
   "outputs": [
    {
     "name": "stdout",
     "output_type": "stream",
     "text": [
      "첫 번째 숫자를 입력해 주세요.1\n",
      "두 번째 숫자를 입력해 주세요.8\n",
      "덧셈 결과는  9 입니다.\n"
     ]
    }
   ],
   "source": [
    "a = int(input(\"첫 번째 숫자를 입력해 주세요.\"))\n",
    "b = int(input(\"두 번째 숫자를 입력해 주세요.\"))\n",
    "print(\"덧셈 결과는 \", a + b, \"입니다.\")\n",
    "#인풋은 문자열이기 때문에 타입 변경이 꼭 필요합니다."
   ]
  },
  {
   "cell_type": "code",
   "execution_count": 22,
   "id": "03f06eaa",
   "metadata": {},
   "outputs": [
    {
     "name": "stdout",
     "output_type": "stream",
     "text": [
      "10 test add\n",
      "파이썬 열공해서 5000천만원 만들기\n",
      "번호 : 446, 성별 : 남자\n",
      "1 문자열 True\n",
      "0번1 1번two 2번셋\n"
     ]
    }
   ],
   "source": [
    "#문자열 함수 -  format\n",
    "format_a = \"{} test {}\".format(10, 'add')\n",
    "format_b = \"파이썬 열공해서 {}천만원 만들기\".format(5000)\n",
    "format_c = \"번호 : {num}, 성별 : {gen}\".format(num=446, gen=\"남자\")\n",
    "format_d = \"{} {} {}\".format(1, \"문자열\", True)\n",
    "format_e = \"0번{a} 1번{b} 2번{c}\".format(b=\"two\", c=\"셋\", a=1)\n",
    "\n",
    "print(format_a)\n",
    "print(format_b)\n",
    "print(format_c)\n",
    "print(format_d)\n",
    "print(format_e)"
   ]
  },
  {
   "cell_type": "code",
   "execution_count": 23,
   "id": "773e89e9",
   "metadata": {},
   "outputs": [
    {
     "name": "stdout",
     "output_type": "stream",
     "text": [
      "  PYTHON PROGRAMMING  \n",
      "  python programming  \n",
      "Python Programming\n",
      "Python Programming  \n",
      "/  Python Programming/\n",
      "False\n",
      "True\n",
      "2\n",
      "2\n",
      "True\n",
      "['Python', 'Programming'] Python\n",
      "<class 'list'> <class 'str'>\n",
      "rogrammin\n"
     ]
    }
   ],
   "source": [
    "#문자열 관련 함수 - upper, lower, strip, lstrip, rstrip\n",
    "str_a = \"  Python Programming  \"\n",
    "\n",
    "print(str_a.upper()) # 모두 대문자로\n",
    "print(str_a.lower()) #모두 소문자로 \n",
    "print(str_a.strip()) #양쪽 공백 제거\n",
    "print(str_a.lstrip()) #왼쪽 공백 제거\n",
    "print(\"/{}/\".format(str_a.rstrip())) #오른쪽 공백 제거\n",
    "\n",
    "print(str_a.strip().isalnum()) \n",
    "#Python Programming에서 공백이 있으므로 False\n",
    "print(str_a.strip()[0:4].isalnum())\n",
    "# Pyth이므로 True\n",
    "\n",
    "print(str_a.find('Python')) #왼쪽부터 찾아 인덱스 출력\n",
    "print(str_a.rfind('Python')) #오른쪽부터 찾아 인덱스 출력\n",
    "\n",
    "print(\"Python\" in str_a) #str_a안에 파이썬이 있으므로 참\n",
    "\n",
    "# str_a = \"  Python Programming  \"\n",
    "list_a = str_a.split()\n",
    "print(list_a, list_a[0])\n",
    "print(type(list_a), type(list_a[0]))\n",
    "print(list_a[1][1:-1])"
   ]
  },
  {
   "cell_type": "code",
   "execution_count": 24,
   "id": "ffc5641e",
   "metadata": {},
   "outputs": [
    {
     "name": "stdout",
     "output_type": "stream",
     "text": [
      "숫자를 2개를 띄어쓰기해서 입력해주세요. >>>1 9\n",
      "1와 9의 합은 10입니다.\n",
      "1와 9의 차는 -8입니다.\n"
     ]
    }
   ],
   "source": [
    "number = input(\"숫자를 2개를 띄어쓰기해서 입력해주세요. >>>\" ).split()\n",
    "# print(number)\n",
    "# print(number_s)\n",
    "a = int(number[0])\n",
    "b = int(number[1])\n",
    "print(\"{}와 {}의 합은 {}입니다.\".format(a, b, a + b))\n",
    "print(\"{}와 {}의 차는 {}입니다.\".format(a, b, a - b))"
   ]
  },
  {
   "cell_type": "code",
   "execution_count": 25,
   "id": "7796566d",
   "metadata": {},
   "outputs": [
    {
     "name": "stdout",
     "output_type": "stream",
     "text": [
      "영문자를 입력해 주세요. >>>asdf\n",
      "대문자 변환 - ASDF\n",
      "소문자 변환 - asdf\n",
      "이 문자는 알파벳으로만 이루어져 있음을 확인했습니다.\n"
     ]
    }
   ],
   "source": [
    "# 영문자를 입력 받아 변수에 저장 후 대문자 소문자로 바꾸세요.\n",
    "string_1 = input(\"영문자를 입력해 주세요. >>>\")\n",
    "print(\"대문자 변환 -\", string_1.upper())\n",
    "print(\"소문자 변환 -\", string_1.lower())\n",
    "\n",
    "\n",
    "# isalpha가 참인지 확인\n",
    "if (string_1.isalpha() == True):\n",
    "    print(\"이 문자는 알파벳으로만 이루어져 있음을 확인했습니다.\")"
   ]
  },
  {
   "cell_type": "code",
   "execution_count": 26,
   "id": "70b85782",
   "metadata": {},
   "outputs": [
    {
     "name": "stdout",
     "output_type": "stream",
     "text": [
      "숫자를 입력해주세요. >>>213\n",
      "이 문자는 숫자입니다.\n"
     ]
    }
   ],
   "source": [
    "# 숫자를 입력받아 변수에 넣고 isdight를 확인합니다.\n",
    "num_tree = input(\"숫자를 입력해주세요. >>>\")\n",
    "a = num_tree.isdigit()\n",
    "if (a == True):\n",
    "    print(\"이 문자는 숫자입니다.\")\n",
    "else:  # 이외의 다른 입력 처리\n",
    "    print(\"잘못된 입력입니다.\")"
   ]
  },
  {
   "cell_type": "code",
   "execution_count": 28,
   "id": "3e87e4c3",
   "metadata": {},
   "outputs": [
    {
     "name": "stdout",
     "output_type": "stream",
     "text": [
      "문자를 5개 입력해주세요. >>>a b c d e\n",
      "3번째 문자열의 처음 문자만 출력 -> c\n",
      "5번째 문자의 마지막 문자만 출력 -> e\n",
      "1\n",
      "False\n"
     ]
    }
   ],
   "source": [
    "# 문자를 5개 입력 받아 변수에 넣고 3번째 문자열의 처음 문자만 출력하기\n",
    "while True:\n",
    "    string_five = input(\"문자를 5개 입력해주세요. >>>\").split()\n",
    "    judge_1 = string_five[0].encode().isalpha()\n",
    "    judge_2 = string_five[1].encode().isalpha()\n",
    "    judge_3 = string_five[2].encode().isalpha()\n",
    "    judge_4 = string_five[3].encode().isalpha()\n",
    "    judge_5 = string_five[4].encode().isalpha()\n",
    "    if judge_1 and judge_2 and judge_3 and judge_4 and judge_5 == True:\n",
    "        break\n",
    "    elif judge_1 and judge_2 and judge_3 and judge_4 and judge_5 == False:\n",
    "        print(\"한글이 포함되어 있습니다.\")\n",
    "        \n",
    "# print(string_five)\n",
    "print(\"3번째 문자열의 처음 문자만 출력 ->\", string_five[2][0:1])\n",
    "# 5번째 문자의 마지막 문자만 출력\n",
    "print(\"5번째 문자의 마지막 문자만 출력 ->\", string_five[4][-1])\n",
    "# len()을 사용하여 문자열의 길이를 출력해보자\n",
    "print(len(string_five[0]))\n",
    "# 문자에 test가 입력되었는지 확인해보자\n",
    "print('test' in string_five)"
   ]
  },
  {
   "cell_type": "code",
   "execution_count": 17,
   "id": "c9d41525",
   "metadata": {},
   "outputs": [
    {
     "name": "stdout",
     "output_type": "stream",
     "text": [
      "숫자 3개를 띄어쓰기 해서 적으세요. >>>1 2 3\n",
      "1 2 3\n",
      "1 + 3 = 4\n",
      "2 x 3 = 6\n"
     ]
    }
   ],
   "source": [
    "num_8 = input(\"숫자 3개를 입력하세요. >>>\").split()\n",
    "num1 = int(num_8[0])\n",
    "num2 = int(num_8[1])\n",
    "num3 = int(num_8[2])\n",
    "print(num1, num2, num3)\n",
    "# 숫자 3개를 입력 받아 처음 숫자와 마지막 숫자 합을 구하자\n",
    "print(\"{} + {} = {}\".format(num1, num3, num1 + num3))\n",
    "# 두 번째 숫자와 마지막 숫자의 곱을 구하자.\n",
    "print(\"{} x {} = {}\".format(num2, num3, num2*num3))  "
   ]
  }
 ],
 "metadata": {
  "kernelspec": {
   "display_name": "Python 3 (ipykernel)",
   "language": "python",
   "name": "python3"
  },
  "language_info": {
   "codemirror_mode": {
    "name": "ipython",
    "version": 3
   },
   "file_extension": ".py",
   "mimetype": "text/x-python",
   "name": "python",
   "nbconvert_exporter": "python",
   "pygments_lexer": "ipython3",
   "version": "3.9.7"
  }
 },
 "nbformat": 4,
 "nbformat_minor": 5
}
