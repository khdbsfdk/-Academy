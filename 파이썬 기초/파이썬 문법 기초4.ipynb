{
 "cells": [
  {
   "cell_type": "code",
   "execution_count": 22,
   "id": "8b731616",
   "metadata": {
    "scrolled": true
   },
   "outputs": [
    {
     "name": "stdout",
     "output_type": "stream",
     "text": [
      "[0. 0. 0. 0. 0.]\n",
      "\n",
      "[[0. 0. 0.]\n",
      " [0. 0. 0.]]\n",
      "\n",
      "[[0 0]\n",
      " [0 0]\n",
      " [0 0]\n",
      " [0 0]\n",
      " [0 0]]\n",
      "\n",
      "['' '' '' '' '']\n",
      "\n",
      "[[[1 1 1 1]\n",
      "  [1 1 1 1]\n",
      "  [1 1 1 1]]\n",
      "\n",
      " [[1 1 1 1]\n",
      "  [1 1 1 1]\n",
      "  [1 1 1 1]]]\n",
      "\n",
      "[[1. 1. 1.]\n",
      " [1. 1. 1.]]\n",
      "\n",
      "[[1.26586417e-311 3.16202013e-322 0.00000000e+000]\n",
      " [0.00000000e+000 7.56587583e-307 1.86956246e-051]\n",
      " [6.23852670e+174 2.01951008e-076 6.37840272e-067]\n",
      " [1.70251336e-051 6.88765227e-042 1.20858433e+161]]\n",
      "\n",
      "[  0.  inf -inf  nan]\n"
     ]
    },
    {
     "name": "stderr",
     "output_type": "stream",
     "text": [
      "C:\\Users\\82104\\AppData\\Local\\Temp/ipykernel_9280/2368961079.py:26: RuntimeWarning: divide by zero encountered in true_divide\n",
      "  print(np.array([0,1,-1,0]) / np.array([1,0,0,0]))\n",
      "C:\\Users\\82104\\AppData\\Local\\Temp/ipykernel_9280/2368961079.py:26: RuntimeWarning: invalid value encountered in true_divide\n",
      "  print(np.array([0,1,-1,0]) / np.array([1,0,0,0]))\n"
     ]
    }
   ],
   "source": [
    "import numpy as np\n",
    "#배열을 생성하면서 값을 초기화하는 방법\n",
    "a = np.zeros(5)\n",
    "print(a)\n",
    "print()\n",
    "\n",
    "b = np.zeros((2,3))\n",
    "print(b)\n",
    "print()\n",
    "\n",
    "print(np.zeros((5,2), dtype='i'))\n",
    "print()\n",
    "\n",
    "print(np.zeros(5, dtype='U4'))\n",
    "print()\n",
    "\n",
    "print(np.ones((2, 3, 4), dtype='i8'))\n",
    "print()\n",
    "\n",
    "print(np.ones_like(b, dtype='f'))\n",
    "print()\n",
    "\n",
    "print(np.empty((4,3)))\n",
    "print()\n",
    "\n",
    "print(np.array([0,1,-1,0]) / np.array([1,0,0,0]))"
   ]
  },
  {
   "cell_type": "code",
   "execution_count": 6,
   "id": "1772cbc6",
   "metadata": {},
   "outputs": [
    {
     "data": {
      "text/plain": [
       "array([[ 4.,  3.],\n",
       "       [ 9.,  8.],\n",
       "       [14., 13.]])"
      ]
     },
     "execution_count": 6,
     "metadata": {},
     "output_type": "execute_result"
    }
   ],
   "source": [
    "x2 = np.array([-1.0, -2.0])\n",
    "z2 = np.array([[5.0], [10.0], [15.0]])\n",
    "x2 + z2"
   ]
  },
  {
   "cell_type": "code",
   "execution_count": 30,
   "id": "7a3c3b26",
   "metadata": {},
   "outputs": [
    {
     "name": "stdout",
     "output_type": "stream",
     "text": [
      "[ 0  1  4  9 16 25 36 49 64 81]\n",
      "4\n",
      "[ 9 16]\n",
      "[  0   1  -4   9 -16  25 -36  49 -64  81]\n",
      "\n",
      "[ 81 -64  49 -36  25 -16   9  -4   1   0]\n",
      "\n",
      "0\t1\t-4\t9\t-16\t25\t-36\t49\t-64\t81\t\n",
      "\n",
      "[[ 1  2  3  4  5]\n",
      " [ 6  7  8  9 10]\n",
      " [11 12 13 14 15]\n",
      " [16 17 18 19 20]]\n",
      "20\n",
      "\n",
      "[[ 2  3  4  5]\n",
      " [ 7  8  9 10]\n",
      " [12 13 14 15]]\n",
      "\n",
      "[ 6  7  8  9 10]\n",
      "\n",
      "[16 17 18 19 20]\n"
     ]
    }
   ],
   "source": [
    "#넘파이 인덱싱, 슬라이싱\n",
    "\n",
    "arr = np.arange(10) ** 2 #0부터 9까지 제곱해서 출력\n",
    "print(arr)\n",
    "print(arr[2])\n",
    "print(arr[3:5])\n",
    "arr[0:10:2] = -arr[0:10:2] #짝수만 -를 붙여서 출력\n",
    "print(arr)\n",
    "print()\n",
    "print(arr[ : : -1]) #뒤에서 부터 출력\n",
    "print()\n",
    "\n",
    "for i in arr:\n",
    "    print(i, end='\\t')\n",
    "print(\"\")\n",
    "print()\n",
    "arr = np.arange(1, 21, 1).reshape(4,5) #4x5행렬로 바꿉니다.\n",
    "print(arr)\n",
    "print(arr[3,4])\n",
    "print()\n",
    "print(arr[0:3, 1:]) #0:3 0행부터 2행까지. 3은 포함하지 않음\n",
    "print()\n",
    "print(arr[1, ]) #1행 출력\n",
    "print()\n",
    "print(arr[-1, ])  #마지막 행 출력"
   ]
  },
  {
   "cell_type": "code",
   "execution_count": 8,
   "id": "1396efe3",
   "metadata": {},
   "outputs": [
    {
     "name": "stdout",
     "output_type": "stream",
     "text": [
      "[0 1 2 3 4 5] [ 1.          0.54030231 -0.41614684 -0.9899925  -0.65364362  0.28366219] [  1.           2.71828183   7.3890561   20.08553692  54.59815003\n",
      " 148.4131591 ]\n",
      "[-4.60517019 -2.81341072 -2.20727491 -1.83258146 -1.56064775 -1.34707365\n",
      " -1.17118298 -1.02165125 -0.89159812 -0.77652879 -0.67334455 -0.5798185\n",
      " -0.49429632 -0.41551544 -0.34249031 -0.27443685 -0.21072103 -0.15082289\n",
      " -0.09431068 -0.04082199]\n"
     ]
    }
   ],
   "source": [
    "#넘파이 일반 함수\n",
    "#np.cos(), sin(), tanh(), exp()\n",
    "\n",
    "arr = np.arange(0, 6, 1)\n",
    "print(arr, np.cos(arr), np.exp(arr))\n",
    "\n",
    "arr = np.arange(0.01, 1, 0.05)\n",
    "print(np.log(arr))"
   ]
  },
  {
   "cell_type": "code",
   "execution_count": 31,
   "id": "6d231b0c",
   "metadata": {},
   "outputs": [
    {
     "name": "stdout",
     "output_type": "stream",
     "text": [
      "[2 5 4]\n",
      "[1 3 2]\n",
      "\n",
      "9\n",
      "[21 36 87 70 88]\n",
      "[[0.96366276 0.38344152 0.79172504]\n",
      " [0.52889492 0.56804456 0.92559664]]\n",
      "[[ 0.44386323  0.33367433  1.49407907]\n",
      " [-0.20515826  0.3130677  -0.85409574]]\n",
      "\n",
      "0 : 6\n",
      "[[0.1 0.8 0.2]\n",
      " [0.3 0.2 0.5]\n",
      " [0.9 0.5 0.3]]\n",
      "\n",
      "[1 2 0]\n",
      "\n",
      "[2 0 1]\n"
     ]
    }
   ],
   "source": [
    "arr1 = np.array([2,3,4])\n",
    "arr2 = np.array([1,5,2])\n",
    "print(np.maximum(arr1, arr2)) #[2 5 4] 여기서 각 열에 대해 최대값\n",
    "print(np.minimum(arr1, arr2)) #[1 3 2] 여기서 각 열에 대해 최소값\n",
    "print()\n",
    "print(np.sum(arr1))  #2+3+4 = 9\n",
    "print(np.random.choice(100, 5)) #0~100 중에서 5개 출력\n",
    "print(np.random.rand(2,3)) #2행 3열의 랜덤값 리턴\n",
    "print(np.random.randn(2,3)) # 2행 3열의 랜덤 값 (표준 정규 분포)\n",
    "print()\n",
    "\n",
    "#위치를 반환하는 함수\n",
    "arr = np.array([6,2,3,1,4,5])\n",
    "print(np.argmax(arr), \":\", arr[np.argmax(arr)])\n",
    "#argmax - 최대값의 인덱스\n",
    "#argmax - 최소값의 인덱스\n",
    "arr3 = np.array([[0.1, 0.8, 0.2], [0.3, 0.2, 0.5], [0.9, 0.5, 0.3]])\n",
    "print(arr3)\n",
    "print()\n",
    "print(np.argmax(arr3, axis=1)) #각 행에서 가장 큰 값의 자리\n",
    "print()\n",
    "print(np.argmax(arr3, axis=0)) #각 열에서 가장 큰 값의 자리"
   ]
  },
  {
   "cell_type": "code",
   "execution_count": 10,
   "id": "ce1568e5",
   "metadata": {},
   "outputs": [
    {
     "name": "stdout",
     "output_type": "stream",
     "text": [
      "26\n",
      "4.8076923076923075\n",
      "115.23224852071006\n",
      "10.734628476137871\n",
      "23 -24 5.0\n",
      "0.0\n",
      "5.0\n",
      "23.0\n"
     ]
    }
   ],
   "source": [
    "# 기술 통계 함수\n",
    "# count(), mean(), var(), std(), median(), max(), min(), percetile()\n",
    "arr = np.array([18, 5, 10, 23, 19, -8, 10, 0, 0, 5, 2, 15, 8,\n",
    "               2, 5, 4, 15, -1, 4, -7, -24, 7, 9, -6, 23, -13])\n",
    "print(len(arr)) #길이\n",
    "print(np.mean(arr))  #평균\n",
    "print(np.var(arr)) #분산\n",
    "print(np.std(arr)) #표준 편차\n",
    "print(np.max(arr), np.min(arr), np.median(arr))\n",
    "print(np.percentile(arr, 25)) #1사분위의 수\n",
    "print(np.percentile(arr, 50)) #2사분위의 수\n",
    "print(np.percentile(arr, 100)) #4사분위의 수 -> 최대 값"
   ]
  },
  {
   "cell_type": "code",
   "execution_count": 20,
   "id": "e26d2359",
   "metadata": {},
   "outputs": [
    {
     "data": {
      "text/plain": [
       "array([0.5488135 , 0.71518937, 0.60276338, 0.54488318, 0.4236548 ])"
      ]
     },
     "execution_count": 20,
     "metadata": {},
     "output_type": "execute_result"
    }
   ],
   "source": [
    "#난수 발생 카운팅\n",
    "np.random.seed(0)\n",
    "np.random.rand(5)"
   ]
  },
  {
   "cell_type": "code",
   "execution_count": 46,
   "id": "6fe01eee",
   "metadata": {},
   "outputs": [
    {
     "name": "stdout",
     "output_type": "stream",
     "text": [
      "[0 1 2 3 4 5 6 7 8 9]\n",
      "[6 4 3 1 5 9 2 8 0 7]\n"
     ]
    }
   ],
   "source": [
    "#데이터 순서를 바꾸는 방법\n",
    "arr = np.arange(10)\n",
    "print(arr)\n",
    "np.random.shuffle(arr)\n",
    "print(arr)"
   ]
  },
  {
   "cell_type": "code",
   "execution_count": 37,
   "id": "be03b88a",
   "metadata": {},
   "outputs": [
    {
     "name": "stdout",
     "output_type": "stream",
     "text": [
      "arr :  [6 2 3 1 4 5]\n",
      "[4 1 5 3 2]\n",
      "[2 3 5]\n",
      "[2 3 2 4 3 3 0 3 0 4]\n"
     ]
    },
    {
     "data": {
      "text/plain": [
       "array([3, 3, 2, 3, 2, 3, 2, 3, 3, 3])"
      ]
     },
     "execution_count": 37,
     "metadata": {},
     "output_type": "execute_result"
    }
   ],
   "source": [
    "#샘플링\n",
    "arr = np.array([6, 2, 3, 1, 4, 5])\n",
    "print(\"arr : \", arr)\n",
    "print(np.random.choice(arr, 5, replace=False)) #5개 선택\n",
    "print(np.random.choice(10, 3, replace=False))  #10개 중에 3개만 선택\n",
    "print(np.random.choice(5, 10))  #5개 중에 10개 선택 -> 중복 허용\n",
    "np.random.choice(5, 10, p=[0.1, 0, 0.3, 0.6, 0])  #p는 확률 부여"
   ]
  },
  {
   "cell_type": "code",
   "execution_count": 71,
   "id": "e3be016c",
   "metadata": {},
   "outputs": [
    {
     "name": "stdout",
     "output_type": "stream",
     "text": [
      "[1 0 4 3 3 4 2 3 1 3]\n",
      "\n",
      "[13 12 17 13 19 19 15 19 18 13 18 15 19 10 17 10 11 16 16 14]\n",
      "\n",
      "[[15 17 16 10 11]\n",
      " [16 16 14 12 12]\n",
      " [14 14 13 11 10]]\n"
     ]
    }
   ],
   "source": [
    "#randint() 정수 난수 발생\n",
    "#np.random.seed(0) #시드 박으면 값 고정됨\n",
    "print(np.random.randint(5, size=10)) #10포함 안함\n",
    "print()\n",
    "print(np.random.randint(10, 20, size=20))\n",
    "print()\n",
    "print(np.random.randint(10, 20, size=(3,5))) #3행 5열의 array 반환"
   ]
  },
  {
   "cell_type": "code",
   "execution_count": 80,
   "id": "0963256f",
   "metadata": {},
   "outputs": [
    {
     "name": "stdout",
     "output_type": "stream",
     "text": [
      "[3, 6, 9, 12, 15, 18]\n",
      "\n",
      "[1, 5, 9, 13, 17]\n",
      "\n",
      "[9]\n",
      "\n",
      "-----------한 줄 표현--------\n"
     ]
    },
    {
     "data": {
      "text/plain": [
       "array([ 3,  6,  9, 12, 15, 18])"
      ]
     },
     "execution_count": 80,
     "metadata": {},
     "output_type": "execute_result"
    }
   ],
   "source": [
    "x = np.array([1, 2, 3, 4, 5, 6, 7, 8, 9, 10, 11,\n",
    "              12, 13, 14, 15, 16, 17, 18, 19, 20])\n",
    "#배열에서 3의 배수를 찾아라\n",
    "list_3 = []\n",
    "for i in x:\n",
    "    if i%3 == 0:\n",
    "        list_3.append(i)\n",
    "print(list_3)\n",
    "print()\n",
    "# 배열에서 4로 나누면 1이 남는 수를 찾아라\n",
    "list_4 = []\n",
    "for i in x:\n",
    "    if i%4 == 1:\n",
    "        list_4.append(i)\n",
    "print(list_4)\n",
    "print()\n",
    "# 배열에서 3으로 나누면 나누어지고, 4로 나누면 1이 남는 수를 찾아라\n",
    "list_5 = []\n",
    "for i in x:\n",
    "    if (i%3 == 0) & (i%4 == 1):\n",
    "        list_5.append(i)\n",
    "print(list_5)\n",
    "print()\n",
    "\n",
    "print(\"-----------한 줄 표현--------\")\n",
    "x [x%3==0]\n",
    "x [x%4==1]\n",
    "x [(x%3==0) & (x%4==1)]"
   ]
  }
 ],
 "metadata": {
  "kernelspec": {
   "display_name": "Python 3 (ipykernel)",
   "language": "python",
   "name": "python3"
  },
  "language_info": {
   "codemirror_mode": {
    "name": "ipython",
    "version": 3
   },
   "file_extension": ".py",
   "mimetype": "text/x-python",
   "name": "python",
   "nbconvert_exporter": "python",
   "pygments_lexer": "ipython3",
   "version": "3.9.7"
  }
 },
 "nbformat": 4,
 "nbformat_minor": 5
}
