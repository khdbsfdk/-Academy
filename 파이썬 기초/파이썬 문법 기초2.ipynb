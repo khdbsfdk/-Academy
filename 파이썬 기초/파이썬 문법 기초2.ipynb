{
 "cells": [
  {
   "cell_type": "code",
   "execution_count": 1,
   "id": "6c0fefdb",
   "metadata": {},
   "outputs": [
    {
     "name": "stdout",
     "output_type": "stream",
     "text": [
      "False\n",
      "True\n",
      "False\n",
      "True\n",
      "False\n",
      "True\n"
     ]
    }
   ],
   "source": [
    "# 불 연산 연습\n",
    "print(10 == 100)\n",
    "print(10 < 100)\n",
    "print(10 > 100)\n",
    "print(10 != 100)\n",
    "print(10 >= 100)\n",
    "print(10 <= 100)"
   ]
  },
  {
   "cell_type": "code",
   "execution_count": 2,
   "id": "bbc80e29",
   "metadata": {},
   "outputs": [
    {
     "name": "stdout",
     "output_type": "stream",
     "text": [
      "찐\n"
     ]
    }
   ],
   "source": [
    "#조건식 if 표현식:\n",
    "if True:\n",
    "    print(\"찐\")\n",
    "if False:\n",
    "    print(\"거짓\")\n",
    "#참인 조건만 출력합니다."
   ]
  },
  {
   "cell_type": "code",
   "execution_count": 3,
   "id": "24c8e73b",
   "metadata": {},
   "outputs": [
    {
     "name": "stdout",
     "output_type": "stream",
     "text": [
      "숫자를 입력해주세요. >>>1\n",
      "입력 받은 숫자는 양수입니다.\n"
     ]
    }
   ],
   "source": [
    "#정수를 입력 받아 양수 음수 구분해보기 + 0이면 0이다.\n",
    "number = int(input(\"숫자를 입력해주세요. >>>\"))\n",
    "\n",
    "if number > 0:\n",
    "    print(\"입력 받은 숫자는 양수입니다.\")\n",
    "elif number < 0:\n",
    "    print(\"입력 받은 숫자는 음수입니다.\")\n",
    "elif number == 0:\n",
    "    print(\"입력 받은 숫자는 0입니다.\")\n",
    "else:\n",
    "    print(\"오류 발생\")"
   ]
  },
  {
   "cell_type": "code",
   "execution_count": null,
   "id": "9cd24ae5",
   "metadata": {},
   "outputs": [],
   "source": [
    "#입력 받은 숫자가  짝수인지 홀수인지 구분\n",
    "number = input(\"숫자를 입력해주세요. >>>\")\n",
    "if number.isalpha():\n",
    "    print(\"숫자가 아닙니다.\")\n",
    "elif number.isdigit():\n",
    "    number = int(number)\n",
    "    if number % 2 == 1:\n",
    "        print(\"입력 받은 숫자는 홀수입니다.\")\n",
    "    elif number % 2 == 0:\n",
    "        print(\"입력 받은 숫자는 짝수입니다.\")\n",
    "    elif number == 0:\n",
    "        print(\"입력 받은 숫자는 0입니다.\")\n",
    "    else:\n",
    "        print(\"오류 발생\")"
   ]
  },
  {
   "cell_type": "code",
   "execution_count": 4,
   "id": "f248b3ed",
   "metadata": {},
   "outputs": [
    {
     "name": "stdout",
     "output_type": "stream",
     "text": [
      "2022-01-18 21:26:44.968183\n",
      "2022 년\n",
      "1 월\n",
      "18 일\n",
      "21 시\n",
      "26 분\n",
      "44 초\n",
      "2022년 1월 18일  21시 26분 44초\n"
     ]
    }
   ],
   "source": [
    "# 시간 가지고 놀기 date time\n",
    "import datetime\n",
    "time_now = datetime.datetime.now()\n",
    "print(time_now)\n",
    "print(time_now.year, \"년\")\n",
    "print(time_now.month, \"월\")\n",
    "print(time_now.day, \"일\")\n",
    "print(time_now.hour, \"시\")\n",
    "print(time_now.minute, \"분\")\n",
    "print(time_now.second, \"초\")\n",
    "print(\"{}년 {}월 {}일  {}시 {}분 {}초\".format(time_now.year, time_now.month, time_now.day, \n",
    "            time_now.hour, time_now.minute, time_now.second))"
   ]
  },
  {
   "cell_type": "code",
   "execution_count": 5,
   "id": "2540f80e",
   "metadata": {},
   "outputs": [
    {
     "name": "stdout",
     "output_type": "stream",
     "text": [
      "오후입니다.\n",
      "겨울입니다.\n"
     ]
    }
   ],
   "source": [
    "#현재 시간에서 오전 오후 구분, 계절 구분\n",
    "import datetime\n",
    "time_now = datetime.datetime.now()\n",
    "if time_now.hour <= 12:\n",
    "    print(\"오전입니다.\")\n",
    "elif time_now.hour > 12:\n",
    "    print(\"오후입니다.\")\n",
    "if (1 <= time_now.month <= 2) or (time_now.month == 12):\n",
    "    print(\"겨울입니다.\")\n",
    "elif 3 <= time_now.month <= 5:\n",
    "    print(\"봄입니다.\")\n",
    "elif 6 <= time_now.month <= 8:\n",
    "    print(\"여름입니다.\")\n",
    "else:\n",
    "    print(\"가을입니다.\")"
   ]
  },
  {
   "cell_type": "code",
   "execution_count": null,
   "id": "7b2a4c58",
   "metadata": {},
   "outputs": [],
   "source": [
    "number = int(input(\"숫자를 입력해주세요. >>>\"))\n",
    "    \n",
    "if number % 2:   #숫자는 0이 아니면 참\n",
    "    print(\"입력 받은 숫자는 홀수입니다.\")\n",
    "else:\n",
    "    print(\"입력 받은 숫자는 짝수입니다.\")\n",
    "# 글자는 빈 글자면 거짓, 글자가 있으면 참"
   ]
  },
  {
   "cell_type": "code",
   "execution_count": 6,
   "id": "f1ed7fe6",
   "metadata": {},
   "outputs": [
    {
     "name": "stdout",
     "output_type": "stream",
     "text": [
      "숫자 2개와 계산식을 입력해주세요.\n",
      "예시) 2 + 4  >>>2 - 8\n",
      "2 - 8 = -6\n"
     ]
    }
   ],
   "source": [
    "#계산식을 입력받아 숫자가 아니면 '계산 불가'\n",
    "#아니면 계산 결과 출력 +\n",
    "\n",
    "print(\"숫자 2개와 계산식을 입력해주세요.\")\n",
    "number = input( \"예시) 2 + 4  >>>\").split()\n",
    "if len(number) != 3:\n",
    "    print(\"입력 갯수 오류\")\n",
    "else:\n",
    "    if number[0].isdigit() and number[-1].isdigit():\n",
    "\n",
    "        if number[1] in '+':\n",
    "            print(\"{} + {} = {}\".format(number[0], number[-1], int(number[0]) + int(number[-1])))\n",
    "        elif number[1] in '-' :\n",
    "            print(\"{} - {} = {}\".format(number[0], number[-1], int(number[0]) - int(number[-1])))\n",
    "        elif number[1] in '*':\n",
    "            print(\"{} * {} = {}\".format(number[0], number[-1], int(number[0]) * int(number[-1])))\n",
    "        elif number[1] in '/':\n",
    "            num = int(number[0]) / int(number[-1])\n",
    "            num_1 = round(num, 1)\n",
    "            print(f\"{number[0]} / {number[-1]} = {num_1}\")\n",
    "\n",
    "    else:\n",
    "        print(\"계산 불가!\\n숫자를 입력해주세요.\")"
   ]
  },
  {
   "cell_type": "code",
   "execution_count": 7,
   "id": "6c35b9cc",
   "metadata": {
    "scrolled": true
   },
   "outputs": [
    {
     "name": "stdout",
     "output_type": "stream",
     "text": [
      "계산식을 입력해주세요. >>>1 - 9\n",
      "['1', '-', '9']\n",
      "1\n",
      "-\n",
      "9\n",
      "False\n",
      "3\n"
     ]
    }
   ],
   "source": [
    "number = input(\"계산식을 입력해주세요. >>>\").split()\n",
    "print(number)\n",
    "print(number[0])\n",
    "print(number[1])\n",
    "print(number[2])\n",
    "print(number[0].isalpha())\n",
    "print(len(number))"
   ]
  },
  {
   "cell_type": "code",
   "execution_count": 20,
   "id": "135c1880",
   "metadata": {},
   "outputs": [
    {
     "name": "stdout",
     "output_type": "stream",
     "text": [
      "list_a :  [1, 2, 3]\n",
      "list_b :  [6, 7, 8]\n",
      "list_a + list_b :  [1, 2, 3, 6, 7, 8]\n",
      "list_b x 3 :  [6, 7, 8, 6, 7, 8, 6, 7, 8]\n",
      "list_a :  [1, 2, 3, 4]\n",
      "None\n",
      "[5, 1, 2, 3, 4, 9]\n",
      "[7]\n",
      "6\n",
      "[9, 10, 11, [6, 7, 8]]\n",
      "요소 자체가 아닌 합치기를 원한다면 extend\n",
      "[5, 1, 2, 3, 4, 9, 6, 7, 8]\n",
      "1\n"
     ]
    }
   ],
   "source": [
    "#리스트 요소 추가하기 : .append(요소)  .insert(위치, 요소)\n",
    "# 리스트에 리스트 각 요소 추가 : .extend(리스트)\n",
    "\n",
    "list_a = [1, 2, 3]\n",
    "list_b = [6, 7, 8]\n",
    "list_c = [9, 10, 11]\n",
    "print(\"list_a : \", list_a)\n",
    "print(\"list_b : \", list_b)\n",
    "print(\"list_a + list_b : \", list_a + list_b)\n",
    "print(\"list_b x 3 : \", list_b*3)\n",
    "list_a.append(4)\n",
    "print(\"list_a : \", list_a)\n",
    "list_a.insert(0, 5)  #0번 자리에 5 삽입\n",
    "print(list_a.append(9)) # append는 리턴 값이 없고 바로 추가해줍니다.\n",
    "print(list_a)\n",
    "print(list_b[1:-1])  # 리스트b의 요소 1번부터 끝자리 직전까지\n",
    "print(len(list_a)) # 리스트 길이 출력\n",
    "list_c.append(list_b)\n",
    "print(list_c)\n",
    "print(\"요소 자체가 아닌 합치기를 원한다면 extend\")\n",
    "list_a.extend(list_b)\n",
    "print(list_a)  # 같은 말 -> list_a + list_b\n",
    "list_a = [1, 2, 3]\n",
    "list_b = [6, 7, 8]\n",
    "print(list_a.count(1))  #리스트a에서 1이 몇개인지 표시"
   ]
  },
  {
   "cell_type": "code",
   "execution_count": 21,
   "id": "063daa90",
   "metadata": {},
   "outputs": [
    {
     "name": "stdout",
     "output_type": "stream",
     "text": [
      "[1, 2, 3]\n",
      "[1, 3]\n",
      "[3]\n",
      "[6, 8]\n",
      "[]\n",
      "\n",
      "[10, 7, 8]\n",
      "[6, 7, 8]\n"
     ]
    }
   ],
   "source": [
    "# 리스트 삭제\n",
    "list_a = [1, 2, 3]\n",
    "list_b = [6, 7, 8]\n",
    "\n",
    "print(list_a)\n",
    "del list_a[1]  # del 리스트[인덱스]\n",
    "print(list_a)\n",
    "list_a.pop(0)  # 리스트.pop(인덱스)\n",
    "print(list_a)\n",
    "list_b.remove(7)  #리스트.remove(요소)\n",
    "print(list_b)\n",
    "\n",
    "list_b.clear()  # 깔 - 끔\n",
    "print(list_b)\n",
    "\n",
    "print(\"\")\n",
    "list_a = [1, 2, 3]\n",
    "list_b = [6, 7, 8]\n",
    "\n",
    "list_c = list_b.copy()  # 값만 복사\n",
    "list_d = list_b  # 주소, 값 모두 복사\n",
    "\n",
    "list_d[0] = 10\n",
    "print(list_b)  # 리스트d를 바꿨지만 리스트b까지 바뀜 따라서 copy()를 써야함\n",
    "print(list_c)"
   ]
  },
  {
   "cell_type": "code",
   "execution_count": 22,
   "id": "425667fd",
   "metadata": {},
   "outputs": [
    {
     "name": "stdout",
     "output_type": "stream",
     "text": [
      "1번째 출력\n",
      "2번째 출력\n",
      "3번째 출력\n",
      "4번째 출력\n",
      "5번째 출력\n",
      "6번째 출력\n",
      "7번째 출력\n",
      "8번째 출력\n",
      "9번째 출력\n",
      "[1, 2, 3, 4, 5, 6, 7, 8, 9]\n"
     ]
    }
   ],
   "source": [
    "# for문과 range()\n",
    "list_1 = []\n",
    "for i in range(1, 10):\n",
    "    list_1.append(i)\n",
    "    print(f\"{i}번째 출력\")\n",
    "print(list_1)"
   ]
  },
  {
   "cell_type": "code",
   "execution_count": 26,
   "id": "d60eaef3",
   "metadata": {},
   "outputs": [
    {
     "name": "stdout",
     "output_type": "stream",
     "text": [
      "숫자 2개를 입력하세요. >>>1 8\n",
      "입력 받은 숫자 : 1 과 8\n",
      "1와 8 사이의 합 : 36\n"
     ]
    }
   ],
   "source": [
    "#두 수 사이의 합을 구해보자\n",
    "list_input = input(\"숫자 2개를 입력하세요. >>>\").split()\n",
    "list_input.sort()\n",
    "print(\"입력 받은 숫자 :\", list_input[0], \"과\", list_input[-1])\n",
    "a = int(list_input[0])\n",
    "b = int(list_input[-1])\n",
    "c = 0\n",
    "for i in range(a, b+1):\n",
    "    c += i\n",
    "print(\"{}와 {} 사이의 합 : {}\".format(a, b, c))"
   ]
  },
  {
   "cell_type": "code",
   "execution_count": 27,
   "id": "336940cc",
   "metadata": {
    "scrolled": true
   },
   "outputs": [
    {
     "name": "stdout",
     "output_type": "stream",
     "text": [
      "[1, 2, 3]\n",
      "1\n",
      "[1, 2, 3]\n",
      "2\n",
      "[1, 2, 3]\n",
      "3\n",
      "[4, 5, 6, 7]\n",
      "4\n",
      "[4, 5, 6, 7]\n",
      "5\n",
      "[4, 5, 6, 7]\n",
      "6\n",
      "[4, 5, 6, 7]\n",
      "7\n",
      "[8, 9]\n",
      "8\n",
      "[8, 9]\n",
      "9\n"
     ]
    }
   ],
   "source": [
    "#연습문제 4번\n",
    "list_4 = [[1, 2, 3], [4, 5, 6, 7], [8, 9]]\n",
    "for list_v in list_4:\n",
    "    for idx in range(len(list_v)):\n",
    "        print(list_v)\n",
    "        print(list_v[idx])"
   ]
  },
  {
   "cell_type": "code",
   "execution_count": null,
   "id": "3945b6c6",
   "metadata": {},
   "outputs": [],
   "source": [
    "#159p 연습문제 5번\n",
    "\n",
    "numbers = [1, 2, 3, 4, 5, 6, 7, 8, 9]\n",
    "output = [[], [], []]\n",
    "\n",
    "for number in numbers:\n",
    "    output[number%3 - 1].append(number)\n",
    "#     print(number%3 - 1)\n",
    "#     print(output[number%3 - 1])\n",
    "print(output)"
   ]
  },
  {
   "cell_type": "code",
   "execution_count": 29,
   "id": "aaf3c487",
   "metadata": {},
   "outputs": [
    {
     "name": "stdout",
     "output_type": "stream",
     "text": [
      "{'수업': 'ai 분석 엔지니어', '장소': '강남'}\n",
      "ai 분석 엔지니어\n",
      "'장소' 존재\n",
      "키:장소, 값:강남\n",
      "키:시간, 값:['9시 에서 오후 6시', '점심 시간은 11시 반']\n",
      "장소: 강남\n",
      "시간: ['9시 에서 오후 6시', '점심 시간은 11시 반']\n"
     ]
    }
   ],
   "source": [
    "#딕셔너리  -> {키:값, ...}\n",
    "dic_a = {\n",
    "    \"수업\":\"ai 분석 엔지니어\",\n",
    "    \"장소\":\"강남\"\n",
    "}\n",
    "print(dic_a)\n",
    "print(dic_a[\"수업\"])\n",
    "\n",
    "dic_a[\"시간\"] = [\"9시 에서 오후 6시\", \"점심 시간은 11시 반\"]\n",
    "dic_a\n",
    "\n",
    "del dic_a[\"수업\"]\n",
    "dic_a\n",
    "\n",
    "if \"장소\" in dic_a:\n",
    "    print(\"'장소' 존재\")\n",
    "for key in dic_a:\n",
    "    print(\"키:{}, 값:{}\".format(key, dic_a[key]))\n",
    "for key, value in dic_a.items():\n",
    "    print(\"{}: {}\".format(key, value))"
   ]
  },
  {
   "cell_type": "code",
   "execution_count": null,
   "id": "ac01856f",
   "metadata": {
    "scrolled": true
   },
   "outputs": [],
   "source": [
    "#  1번 문제 키보에서 숫자를 입력받아 리스트에 저장한 후 입력한 전체 데이터의 합을 출력\n",
    "#    5회 입력\n",
    "\n",
    "\n",
    "input_num1 = input(\"숫자를 입력하세요 >>>\").split()\n",
    "list_len = len(input_num1)\n",
    "# print(input_num1)\n",
    "# print(int(input_num1[0]))\n",
    "# print(list_len)\n",
    "sum = 0\n",
    "for i in range(0, list_len):\n",
    "    s = int(input_num1[i])\n",
    "#    print(int(input_num1[i]))\n",
    "    sum += s\n",
    "print(\"입력한 숫자의 합은 -> \", sum)"
   ]
  },
  {
   "cell_type": "code",
   "execution_count": 68,
   "id": "09057a8d",
   "metadata": {},
   "outputs": [
    {
     "name": "stdout",
     "output_type": "stream",
     "text": [
      "이름, 국어, 영어, 수학 점수를 각각 적어주세요.ㅗ 1 2 3\n",
      "['ㅗ', '1', '2', '3']\n",
      "이름, 국어, 영어, 수학 점수를 각각 적어주세요.ㅎ 1 2 3\n",
      "['ㅎ', '1', '2', '3']\n",
      "이름, 국어, 영어, 수학 점수를 각각 적어주세요.quit\n",
      "{'ㅗ': [1, 2, 3, 6], 'ㅎ': [1, 2, 3, 6]}\n"
     ]
    }
   ],
   "source": [
    "# 이름, 국, 영, 수 점수를 입력받아 딕셔너리에 저장 후 합계를 딕셔너리에 추가하고 결과 출력\n",
    "#   이름에 'quit'이 입력되면 입력 종료\n",
    "# dict_a = {'name' : '', 'kor' : '', 'eng' : '', 'math' : '', 'total' : ''}\n",
    "dict_subject = {}\n",
    "while True:\n",
    "    score_list = []\n",
    "    total = 0\n",
    "    \n",
    "    input_str = input(\"이름, 국어, 영어, 수학 점수를 각각 적어주세요.\").split()\n",
    "    name = input_str[0]\n",
    "    if name == 'quit':    # 만약 quit이 나오면 종료\n",
    "        break\n",
    "    elif len(input_str) != 4:   # 만약 정확한 입력이 아니면 종료\n",
    "        break\n",
    "    print(input_str)\n",
    "    for i in range(1, 4):  # 남은건 국영수 점수이므로 3개\n",
    "#         print(input_str[i])  # 각각의 국영수 점수\n",
    "        score_list.append(int(input_str[i]))  #국영수 점수를 스코어 리스트에 넣음\n",
    "#         print(score_list)\n",
    "    for i in range(3):\n",
    "        total += score_list[i]  # 합계 점수 만들어주고\n",
    "    score_list.append(total)    # 스코어 리스트 마지막에 합계 점수 입력\n",
    "    dict_subject[name] = score_list  # 최종 딕셔너리에 이름과 스코어 리스트 입력\n",
    "#     print(score_list)\n",
    "print(dict_subject)"
   ]
  },
  {
   "cell_type": "code",
   "execution_count": 54,
   "id": "86d9cbdd",
   "metadata": {},
   "outputs": [
    {
     "ename": "IndexError",
     "evalue": "list index out of range",
     "output_type": "error",
     "traceback": [
      "\u001b[1;31m---------------------------------------------------------------------------\u001b[0m",
      "\u001b[1;31mIndexError\u001b[0m                                Traceback (most recent call last)",
      "\u001b[1;32m~\\AppData\\Local\\Temp/ipykernel_15288/2006766825.py\u001b[0m in \u001b[0;36m<module>\u001b[1;34m\u001b[0m\n\u001b[0;32m      3\u001b[0m \u001b[1;31m# dict_a = {'name' : '', 'kor' : '', 'eng' : '', 'math' : '', 'total' : ''}\u001b[0m\u001b[1;33m\u001b[0m\u001b[1;33m\u001b[0m\u001b[0m\n\u001b[0;32m      4\u001b[0m \u001b[1;32mfor\u001b[0m \u001b[0mi\u001b[0m \u001b[1;32min\u001b[0m \u001b[0mrange\u001b[0m\u001b[1;33m(\u001b[0m\u001b[1;36m3\u001b[0m\u001b[1;33m)\u001b[0m\u001b[1;33m:\u001b[0m\u001b[1;33m\u001b[0m\u001b[1;33m\u001b[0m\u001b[0m\n\u001b[1;32m----> 5\u001b[1;33m     \u001b[0mtotal\u001b[0m \u001b[1;33m+=\u001b[0m \u001b[0mscore_list\u001b[0m\u001b[1;33m[\u001b[0m\u001b[0mi\u001b[0m\u001b[1;33m]\u001b[0m\u001b[1;33m\u001b[0m\u001b[1;33m\u001b[0m\u001b[0m\n\u001b[0m\u001b[0;32m      6\u001b[0m \u001b[0mlist\u001b[0m\u001b[1;33m(\u001b[0m\u001b[0mrange\u001b[0m\u001b[1;33m(\u001b[0m\u001b[1;36m3\u001b[0m\u001b[1;33m)\u001b[0m\u001b[1;33m)\u001b[0m\u001b[1;33m\u001b[0m\u001b[1;33m\u001b[0m\u001b[0m\n",
      "\u001b[1;31mIndexError\u001b[0m: list index out of range"
     ]
    }
   ],
   "source": [
    "# 'name':[], 'kor':[], 'eng':[], 'math':[], 'total':[]\n",
    "                \n",
    "# dict_a = {'name' : '', 'kor' : '', 'eng' : '', 'math' : '', 'total' : ''}\n",
    "for i in range(3):\n",
    "    total += score_list[i]\n",
    "list(range(3))"
   ]
  },
  {
   "cell_type": "code",
   "execution_count": null,
   "id": "81f29727",
   "metadata": {
    "scrolled": true
   },
   "outputs": [],
   "source": [
    "# 3번 문제 이름을 입력받아 저장된 딕셔너리의 이름이 있는지 확인하고 \n",
    "#    있으면 점수 출력, 없으면 오류 처리\n",
    "\n",
    "dict_name = {'name':[\"철수\", \"영희\", \"코난\"]}\n",
    "\n",
    "while True:\n",
    "    name_new = input(\"저장할 이름을 입력하세요. >>>\")\n",
    "    dict_name['name'].append(name_new)\n",
    "    name_find = input(\"찾을 이름을 입력하세요. >>>\")\n",
    "    print(dict_name)\n",
    "    \n",
    "    if name_find in dict_name['name']:\n",
    "        print(f\"{name_find}를 찾았습니다.\")\n",
    "        break\n",
    "    else:\n",
    "        pass"
   ]
  },
  {
   "cell_type": "code",
   "execution_count": 5,
   "id": "c0327390",
   "metadata": {},
   "outputs": [
    {
     "name": "stdout",
     "output_type": "stream",
     "text": [
      "3\n",
      "{1: 3, 2: 4, 6: 1, 8: 2, 4: 3, 3: 3, 9: 3, 5: 2, 7: 2}\n"
     ]
    }
   ],
   "source": [
    "#172P 연습문제 3번\n",
    "list_numbers = [1, 2, 6, 8, 4, 3, 2, 1, 9, 5, 4, 9, 7, 2, 1, 3, 5, 4, 8, 9, 7, 2, 3]\n",
    "dict_counter = {}\n",
    "\n",
    "print(list_numbers.count(1))\n",
    "for number in list_numbers:\n",
    "    dict_counter[number] = list_numbers.count(number)\n",
    "print(dict_counter)"
   ]
  },
  {
   "cell_type": "code",
   "execution_count": 25,
   "id": "95b06df0",
   "metadata": {},
   "outputs": [
    {
     "name": "stdout",
     "output_type": "stream",
     "text": [
      "name : 기사\n",
      "level : 12\n",
      "sword : 불꽂의 검\n",
      "armor : 풀 플레이트\n",
      "skill : ['베기', '세게 베기', '강하게 베기']\n",
      "skill : ['베기', '세게 베기', '강하게 베기']\n",
      "skill : ['베기', '세게 베기', '강하게 베기']\n"
     ]
    }
   ],
   "source": [
    "#173p 연습문제 4번\n",
    "character = {\n",
    "    \"name\": \"기사\",\n",
    "    \"level\": 12,\n",
    "    \"items\": {\n",
    "        \"sword\": \"불꽂의 검\",\n",
    "        \"armor\": \"풀 플레이트\"\n",
    "    },\n",
    "    \"skill\": [\"베기\", \"세게 베기\", \"강하게 베기\"]\n",
    "}\n",
    "\n",
    "character.items()\n",
    "for key in character:\n",
    "#     print(\"key:\", key)\n",
    "#     print(\"type\", type(key))\n",
    "#     print(\"character[key]\", character[key])\n",
    "#     print(\"type\", type(character[key]))\n",
    "    if type(character[key]) == dict:\n",
    "        for key1, value1 in character[key].items():\n",
    "#             print(\"\\n character[key].items():\", character[key].items())\n",
    "#             print(\"key1 & value1\", key1, value1)\n",
    "            print(\"{} : {}\".format(key1, value1))\n",
    "    elif type(character[key]) == list:\n",
    "        for value2 in character[key]:\n",
    "#             print(\"\\n\\ncharacter[key]\", character[key])\n",
    "#             print(\"key\", key)\n",
    "#             print(\"value2\", value2)\n",
    "            print(\"{} : {}\".format(key, value))\n",
    "    else:\n",
    "         print(\"{} : {}\".format(key, character[key]))"
   ]
  }
 ],
 "metadata": {
  "kernelspec": {
   "display_name": "Python 3 (ipykernel)",
   "language": "python",
   "name": "python3"
  },
  "language_info": {
   "codemirror_mode": {
    "name": "ipython",
    "version": 3
   },
   "file_extension": ".py",
   "mimetype": "text/x-python",
   "name": "python",
   "nbconvert_exporter": "python",
   "pygments_lexer": "ipython3",
   "version": "3.9.7"
  }
 },
 "nbformat": 4,
 "nbformat_minor": 5
}
