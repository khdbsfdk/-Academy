{
 "cells": [
  {
   "cell_type": "code",
   "execution_count": 1,
   "id": "862968cf",
   "metadata": {},
   "outputs": [
    {
     "name": "stdout",
     "output_type": "stream",
     "text": [
      "0 = 반복 횟수\n",
      "1 = 반복 횟수\n",
      "2 = 반복 횟수\n",
      "3 = 반복 횟수\n",
      "4 = 반복 횟수\n"
     ]
    }
   ],
   "source": [
    "#range를 이용한 반복문\n",
    "\n",
    "for i in range(5):  #숫자 만큼 반복\n",
    "    print(str(i) + ' = 반복 횟수')"
   ]
  },
  {
   "cell_type": "code",
   "execution_count": 2,
   "id": "195ac4d6",
   "metadata": {
    "scrolled": true
   },
   "outputs": [
    {
     "name": "stdout",
     "output_type": "stream",
     "text": [
      "273\n",
      "657\n",
      "33\n",
      "27\n",
      "2\n",
      "90\n",
      "\n",
      "0번째 반복 : 273\n",
      "1번째 반복 : 657\n",
      "2번째 반복 : 33\n",
      "3번째 반복 : 27\n",
      "4번째 반복 : 2\n",
      "5번째 반복 : 90\n",
      "\n",
      "5번째 반복 : 90\n",
      "4번째 반복 : 2\n",
      "3번째 반복 : 27\n",
      "2번째 반복 : 33\n",
      "1번째 반복 : 657\n",
      "0번째 반복 : 273\n",
      "\n",
      "5번째 반복 : 90\n",
      "4번째 반복 : 2\n",
      "3번째 반복 : 27\n",
      "2번째 반복 : 33\n",
      "1번째 반복 : 657\n",
      "0번째 반복 : 273\n",
      "\n",
      "0번째 반복 : 273\n",
      "1번째 반복 : 657\n",
      "2번째 반복 : 33\n",
      "3번째 반복 : 27\n",
      "4번째 반복 : 2\n",
      "5번째 반복 : 90\n",
      "\n",
      "[90, 2, 27, 33, 657, 273]\n"
     ]
    }
   ],
   "source": [
    "list_a = [273, 657, 33, 27, 2, 90]\n",
    "for element in list_a:\n",
    "    print(element) #리스트 요소를 차례대로 출력\n",
    "    \n",
    "print(\"\")\n",
    "for i in range(len(list_a)):\n",
    "    print(\"{}번째 반복 : {}\".format(i, list_a[i]))\n",
    "    \n",
    "print(\"\")\n",
    "#리스트 값을 역으로 출력\n",
    "for i in range(len(list_a)-1, -1, -1):\n",
    "    print(\"{}번째 반복 : {}\".format(i, list_a[i]))    \n",
    "print(\"\")\n",
    "for i in reversed(range(len(list_a))):\n",
    "    print(\"{}번째 반복 : {}\".format(i, list_a[i])) \n",
    "\n",
    "print(\"\")\n",
    "#인덱스와 리스트 값 같이 출력\n",
    "for idx, value in enumerate(list_a):\n",
    "    print(\"{}번째 반복 : {}\".format(idx, value))\n",
    "    \n",
    "#리스트 뒤집어서 출력\n",
    "print(\"\")\n",
    "print(list_a[::-1])"
   ]
  },
  {
   "cell_type": "code",
   "execution_count": 12,
   "id": "422e546d",
   "metadata": {},
   "outputs": [
    {
     "name": "stdout",
     "output_type": "stream",
     "text": [
      "273\n",
      "657\n",
      "33\n",
      "27\n",
      "2\n",
      "90\n",
      "100\n",
      "46\n",
      "\n",
      "[1, 3, 2, 2, 1]\n",
      "[1, 3, 2, 1]\n",
      "[1, 3, 1]\n"
     ]
    }
   ],
   "source": [
    "list_a = [273, 657, 33, 27, 2, 90, 100, 46]\n",
    "i = 0\n",
    "while i < len(list_a): #리스트 요소 갯수만큼 반복\n",
    "    print(list_a[i])\n",
    "    i += 1\n",
    "    \n",
    "print(\"\")\n",
    "list_b = [1, 2, 3, 2, 2, 1]\n",
    "value = 2\n",
    "while value in list_b:  #2가 리스트 안에 있으면 2 삭제\n",
    "    list_b.remove(value)\n",
    "    print(list_b)"
   ]
  },
  {
   "cell_type": "code",
   "execution_count": 14,
   "id": "deae6969",
   "metadata": {},
   "outputs": [
    {
     "name": "stdout",
     "output_type": "stream",
     "text": [
      "이름과 점수를 입력 >>>>홍 30\n",
      "이름과 점수를 입력 >>>>갈 59\n",
      "이름과 점수를 입력 >>>>동 39\n",
      "이름과 점수를 입력 >>>>q 50\n",
      "검색 할 이름을 적어주세요. >>>>ghd\n",
      "자료 없음\n"
     ]
    }
   ],
   "source": [
    "# 이름과 점수를 입력 받아 딕셔너리에 저장\n",
    "# 이름에 q가 들어가면 종료\n",
    "# 검색 할 이름을 입력받아 해당 이름이 있으면, 이름과 점수 출력\n",
    "# 검색 할 이름이 없으면 '자료 없음' 출력\n",
    "dict_score = {}\n",
    "while True:\n",
    "    input_a = input(\"이름과 점수를 입력 >>>>\").split()\n",
    "    name = input_a[0]\n",
    "    score = input_a[1]\n",
    "    if name == 'q': #이름에 q가 입력되면 종료\n",
    "        break\n",
    "    if len(input_a) != 2 or not input_a[1].isdigit():\n",
    "        continue #입력 수가 2개가 아니거나 숫자가 아니라면 다시 입력을 받음\n",
    "    dict_score[name] = score #딕셔너리에 이름을 키로 점수 저장\n",
    "    \n",
    "input_b = input(\"검색 할 이름을 적어주세요. >>>>\")\n",
    "if input_b in dict_score:   #반복문이 끝나면 점수 검색\n",
    "    print(\"{}의 성적 : {}\".format(input_b, dict_score[input_b]))\n",
    "else:\n",
    "    print(\"자료 없음\")"
   ]
  },
  {
   "cell_type": "code",
   "execution_count": null,
   "id": "04b506f4",
   "metadata": {},
   "outputs": [],
   "source": [
    "# 계산식을 입력 받아 계산 결과를 출력하는 프로그램 작성\n",
    "# 10 + 20 => 10 + 20 = 30\n",
    "# q가 입력되면 종료\n",
    "\n",
    "while True:\n",
    "    input_calculate = input(\"계산식을 입력해주세요. >>> \").split()\n",
    "    if len(input_calculate) != 3:\n",
    "        print(\"입력 오류 입니다.   예시) 41 + 30\")\n",
    "        continue\n",
    "    num1 = int(input_calculate[0]) #input함수로 받은 글자는\n",
    "    num2 = int(input_calculate[2]) #문자열이므로 int로 바꿔준다\n",
    "    sign = input_calculate[1]\n",
    "    \n",
    "    if num1 == 'q' or num2 == 'q' or sign == 'q':\n",
    "        break\n",
    "    if sign == '+':\n",
    "        print(\"출력 : {} + {} = {}\".format(num1, num2, num1 + num2))\n",
    "    elif sign == '-':\n",
    "        print(\"출력 : {} - {} = {}\".format(num1, num2, num1 - num2))\n",
    "    elif sign == '*':\n",
    "        print(\"출력 : {} x {} = {}\".format(num1, num2, num1 * num2))\n",
    "    elif sign == '/':\n",
    "        print(\"출력 : {} / {} = {}\".format(num1, num2, num1 / num2))\n",
    "    else:\n",
    "        print(\"입력 오류\")\n"
   ]
  },
  {
   "cell_type": "code",
   "execution_count": 17,
   "id": "968b078d",
   "metadata": {},
   "outputs": [
    {
     "name": "stdout",
     "output_type": "stream",
     "text": [
      "5초 동안 37021089번 반복 실행\n"
     ]
    }
   ],
   "source": [
    "# 시간 가지고 놀기\n",
    "import time\n",
    "\n",
    "num = 0\n",
    "target_t = time.time() + 5\n",
    "while time.time() < target_t:\n",
    "    num += 1\n",
    "print(\"5초 동안 {}번 반복 실행\".format(num))"
   ]
  },
  {
   "cell_type": "code",
   "execution_count": 19,
   "id": "009a2e3c",
   "metadata": {},
   "outputs": [
    {
     "name": "stdout",
     "output_type": "stream",
     "text": [
      "[0, 2, 4, 6, 8]\n"
     ]
    },
    {
     "data": {
      "text/plain": [
       "[1, 3, 5, 7, 9]"
      ]
     },
     "execution_count": 19,
     "metadata": {},
     "output_type": "execute_result"
    }
   ],
   "source": [
    "# 리스트의 인덱스와 값을 동시에 반환 - enumerate(list)\n",
    "\n",
    "#리스트 내포 : [i for i in 반복 조건식]\n",
    "array = [i for i in range(10) if i % 2 == 0]\n",
    "print(array)\n",
    "\n",
    "array = [ i for i in range(10) if i % 2]\n",
    "array"
   ]
  },
  {
   "cell_type": "code",
   "execution_count": 24,
   "id": "9cf5a550",
   "metadata": {},
   "outputs": [
    {
     "name": "stdout",
     "output_type": "stream",
     "text": [
      "2500 2550\n"
     ]
    }
   ],
   "source": [
    "# 1에서 100까지의 홀수와 짝수의 합을 각각 구하세요\n",
    "\n",
    "odd_sum = sum([i for i in range(1, 101) if i % 2])  #홀수\n",
    "\n",
    "even_sum = sum([ i for i in range(1, 101) if not i % 2])\n",
    "print(odd_sum, even_sum)"
   ]
  },
  {
   "cell_type": "code",
   "execution_count": 56,
   "id": "6d213006",
   "metadata": {},
   "outputs": [
    {
     "name": "stdout",
     "output_type": "stream",
     "text": [
      "name hong\n",
      "age 23\n",
      "sex male\n"
     ]
    }
   ],
   "source": [
    "#   딕셔너리의 키와 값을 동시에 반환 - dict.items()\n",
    "dict_n = {'name' : 'hong', 'age' : 23, 'sex' : 'male'}\n",
    "for key, value in dict_n.items():\n",
    "    print(key, value)"
   ]
  },
  {
   "cell_type": "code",
   "execution_count": 27,
   "id": "e9b2137b",
   "metadata": {},
   "outputs": [
    {
     "name": "stdout",
     "output_type": "stream",
     "text": [
      "이렇게 입력해도 하나의 문자열로 출력\n",
      "(1, 2, 3, 4)\n",
      "[5, 2, 3, 4]\n"
     ]
    }
   ],
   "source": [
    "#튜플 출력\n",
    "test = (\n",
    "\"이렇게 입력해도 \"\n",
    "\"하나의 문자열로 출력\")\n",
    "print(test)\n",
    "\n",
    "a = (1, 2, 3, 4)\n",
    "a_list = [1, 2, 3, 4]\n",
    "\n",
    "# a[0] = 5  #튜플은 데이터 변경 불가능\n",
    "a_list[0] = 5\n",
    "print(a)\n",
    "print(a_list)"
   ]
  },
  {
   "cell_type": "code",
   "execution_count": 32,
   "id": "ef5666fe",
   "metadata": {},
   "outputs": [
    {
     "name": "stdout",
     "output_type": "stream",
     "text": [
      "1::2::3::4\n"
     ]
    },
    {
     "data": {
      "text/plain": [
       "['1', '2', '3', '4']"
      ]
     },
     "execution_count": 32,
     "metadata": {},
     "output_type": "execute_result"
    }
   ],
   "source": [
    "#문자열 연결 함수 : 문자열.join(리스트)\n",
    "a_list = ['1', '2', '3', '4']\n",
    "join_a_list = \"::\".join(a_list) # 각 요소를 ::로 연결\n",
    "print(join_a_list)\n",
    "join_a_list.split(sep='::') #::를 기준으로 분해"
   ]
  },
  {
   "cell_type": "code",
   "execution_count": 33,
   "id": "dfa372bb",
   "metadata": {},
   "outputs": [
    {
     "name": "stdout",
     "output_type": "stream",
     "text": [
      "reversed_numbers :  <list_reverseiterator object at 0x00000268BDD58A90>\n",
      "5\n",
      "4\n",
      "3\n",
      "2\n",
      "1\n"
     ]
    }
   ],
   "source": [
    "#이터레이터 함수\n",
    "\n",
    "numbers = [1, 2, 3, 4, 5]\n",
    "r_num = reversed(numbers)\n",
    "\n",
    "print(\"reversed_numbers : \", r_num)\n",
    "print(next(r_num))\n",
    "print(next(r_num))\n",
    "print(next(r_num))\n",
    "print(next(r_num))\n",
    "print(next(r_num))"
   ]
  },
  {
   "cell_type": "code",
   "execution_count": 37,
   "id": "0bd26b7a",
   "metadata": {
    "scrolled": true
   },
   "outputs": [
    {
     "name": "stdout",
     "output_type": "stream",
     "text": [
      "이름과 전화번호를 입력해주세요(- 빼고).홍 010 4651 8213\n",
      "추가 완료  {'홍': '010-4651-8213'}\n",
      "이름과 전화번호를 입력해주세요(- 빼고).길 010 4819 6516\n",
      "추가 완료  {'홍': '010-4651-8213', '길': '010-4819-6516'}\n",
      "이름과 전화번호를 입력해주세요(- 빼고).ㅂ\n",
      "검색 할 이름을 적어주세요. >>>>홍\n",
      "홍 : 010-4651-8213\n"
     ]
    }
   ],
   "source": [
    "#전화번호부 작성\n",
    "# 이름, 전화번호 입력 -> 홍길동 123-4567-8910\n",
    "# 저장은 딕셔너리 - 이름, 전화번호로 저장\n",
    "# 이름에 q가 입력되면 입력 종료\n",
    "# 검색할 이름 입력하면 전화번호와 함께 출력\n",
    "\n",
    "dict_phonebook = {}\n",
    "while True:\n",
    "    print(\"이름과 전화번호를 입력해주세요(- 빼고)\")\n",
    "    input_phonebook = input(\"예시) 홍길동 010 1234 4567\").split()\n",
    "    name = input_phonebook[0]\n",
    "    if input_phonebook[0] == 'q' or input_phonebook[0] == 'ㅂ':\n",
    "        break\n",
    "    #전화번호 사이 사이를 -로 연결\n",
    "    dict_phonebook[name]= '-'.join(input_phonebook[1:])\n",
    "    print(\"추가 완료 \", dict_phonebook)\n",
    "    \n",
    "input_find = input(\"검색 할 이름을 적어주세요. >>>>\")\n",
    "if input_find in dict_phonebook.keys():\n",
    "    print(\"{} : {}\".format(input_find, dict_phonebook[input_find]))\n",
    "else:\n",
    "    print(\"자료 없음\")"
   ]
  },
  {
   "cell_type": "code",
   "execution_count": 42,
   "id": "0c9fd1e8",
   "metadata": {},
   "outputs": [
    {
     "name": "stdout",
     "output_type": "stream",
     "text": [
      "test\n",
      "test\n",
      "test\n",
      "test\n",
      "test\n",
      "\n",
      "테스트\n",
      "대면\n",
      "수업\n",
      "테스트\n",
      "대면\n",
      "수업\n",
      "테스트\n",
      "대면\n",
      "수업\n",
      "\n",
      "test\n",
      "test\n",
      "\n",
      "test\n",
      "test\n"
     ]
    },
    {
     "data": {
      "text/plain": [
       "9"
      ]
     },
     "execution_count": 42,
     "metadata": {},
     "output_type": "execute_result"
    }
   ],
   "source": [
    "#함수의 정의 => def 함수명():\n",
    "\n",
    "#일반 매개 변수\n",
    "def print_n_times(value, n):\n",
    "    for i in range(n):\n",
    "        print(value)\n",
    "    print(\"\")\n",
    "\n",
    "#가변 매개 변수에서 일반 매개변수는 가변 매개변수 뒤에 올 수 없음\n",
    "def print_v_times(n, *values):\n",
    "    for i in range(n):\n",
    "        for value in values:\n",
    "            print(value)\n",
    "    print()\n",
    "        \n",
    "#기본 매개 변수\n",
    "def print_d_times(value, n=2):\n",
    "    for i in range(n):\n",
    "        print(value)\n",
    "    print()\n",
    "    \n",
    "#기본 매개 변수\n",
    "def print_f_times(value, n=2, a=2, b=5):\n",
    "    for i in range(n):\n",
    "        print(value)\n",
    "    return n+a+b\n",
    "    \n",
    "print_n_times('test', 5)\n",
    "print_v_times(3, '테스트', '대면', '수업')\n",
    "print_d_times('test')\n",
    "print_f_times('test')"
   ]
  },
  {
   "cell_type": "code",
   "execution_count": 43,
   "id": "b9ecff46",
   "metadata": {},
   "outputs": [
    {
     "name": "stdout",
     "output_type": "stream",
     "text": [
      "계산 식 입력 >>>10 - 80\n",
      "10 - 80 = -70\n",
      "계산 식 입력 >>>ㅂ\n",
      "계산 식 입력 >>>ㅂㅂ\n",
      "계산 식 입력 >>>q\n"
     ]
    }
   ],
   "source": [
    "# 계산 프로그램 작성 - 함수 사용\n",
    "\n",
    "def add(num1, num2):\n",
    "    return num1+num2\n",
    "def sub(num1, num2):\n",
    "    return num1-num2\n",
    "def mul(num1, num2):\n",
    "    return num1*num2\n",
    "def div(num1, num2):\n",
    "    return num1/num2\n",
    "\n",
    "cal_dict = {\n",
    "    '+': add,\n",
    "    '-': sub,\n",
    "    '*': mul,\n",
    "    '/': div\n",
    "}\n",
    "\n",
    "while True:\n",
    "    cal_list =  input(\"계산 식 입력 >>>\").split()\n",
    "    if cal_list[0] == 'q':\n",
    "        break\n",
    "    if len(cal_list) != 3 or not cal_list[1] in cal_dict:\n",
    "        continue\n",
    "    result = cal_dict[cal_list[1]](int(cal_list[0]), int(cal_list[2]))\n",
    "    \n",
    "    if result == 'ERR':\n",
    "        print(\"처리 불가\")\n",
    "    else:\n",
    "        print(\"{} {} {} = {}\". format(cal_list[0], cal_list[1], cal_list[2], result))"
   ]
  },
  {
   "cell_type": "code",
   "execution_count": 57,
   "id": "c44ddb07",
   "metadata": {},
   "outputs": [],
   "source": [
    "# 이름, 국어, 영어, 수학 점수를 받아 dict에 저장하는 함수 작성\n",
    "# 이름에 q가 들어가면 종료\n",
    "# 각 사람의 합계와 평균을 구해서 dict에 추가하는 함수(소수점 2자리)\n",
    "# 전체 학생의 합계에서 최고 점수, 최저 점수를 가진 학생의 이름과 점수 출력\n",
    "# 전체 학생의 평균(소수점 2자리), 인원수 출력\n",
    "# \n",
    "\n",
    "def input_data():\n",
    "    dict_stu = {}\n",
    "    while True:\n",
    "        name = input(\"이름을 입력하세요.(|'q|'를 입력하면 종료)\")\n",
    "        if name == 'q' or name == 'ㅂ':\n",
    "            break\n",
    "        score = input(\"국어 영어 수학 점수를 입력하세요. >>>\").split()\n",
    "        if len(score) != 3:\n",
    "            continue\n",
    "        score = list(map(int, score)) #int로 변경\n",
    "        dict_stu[name] = score   # 이름에 해당 점수 리스트 삽입\n",
    "        print(\"score\",score)\n",
    "        print(\"dict_stu\", dict_stu)\n",
    "    return dict_stu\n",
    "    print()\n",
    "    \n",
    "def input_tot_avg(dict_stu):\n",
    "    for name, score in dict_stu.items():\n",
    "        sum_score = sum(score)\n",
    "        len_score = len(score)\n",
    "        score.append(sum_score) #성적 합계 추가\n",
    "        score.append(sum_score/len_score) # 성적 평균 추가\n",
    "        print(dict_stu)\n",
    "    return dict_stu\n",
    "    print(\"\")\n",
    "    \n",
    "def max_min(dict_stu):\n",
    "    tot_list = []\n",
    "    name_list = []\n",
    "    for name, score in dict_stu.items():\n",
    "        name_list.append(name) #이름 리스트에 이름을 차례대로 추가\n",
    "        tot_list.append(score[3]) #점수 합계를 합계 리스트에 추가\n",
    "        \n",
    "    max_score = max(tot_list) #최고 점수 추출\n",
    "    min_score = min(tot_list) #최저 점수 추출\n",
    "    for idx, score in enumerate(tot_list):\n",
    "        if max_score == score:\n",
    "            max_idx = idx\n",
    "        if min_score == score:\n",
    "            min_idx = idx\n",
    "    return min_idx, max_idx, name_list\n",
    "    \n",
    "def avg_count(dict_stu):\n",
    "    tot_score = 0\n",
    "    for score in dict_stu.values():\n",
    "        tot_score += score[3]\n",
    "    return tot_score"
   ]
  },
  {
   "cell_type": "code",
   "execution_count": 58,
   "id": "c245f894",
   "metadata": {},
   "outputs": [
    {
     "name": "stdout",
     "output_type": "stream",
     "text": [
      "이름을 입력하세요.(|'q|'를 입력하면 종료)h\n",
      "국어 영어 수학 점수를 입력하세요. >>>1 2 3\n",
      "score [1, 2, 3]\n",
      "dict_stu {'h': [1, 2, 3]}\n",
      "이름을 입력하세요.(|'q|'를 입력하면 종료)j\n",
      "국어 영어 수학 점수를 입력하세요. >>>1 2 3\n",
      "score [1, 2, 3]\n",
      "dict_stu {'h': [1, 2, 3], 'j': [1, 2, 3]}\n",
      "이름을 입력하세요.(|'q|'를 입력하면 종료)n\n",
      "국어 영어 수학 점수를 입력하세요. >>>1 2 3\n",
      "score [1, 2, 3]\n",
      "dict_stu {'h': [1, 2, 3], 'j': [1, 2, 3], 'n': [1, 2, 3]}\n",
      "이름을 입력하세요.(|'q|'를 입력하면 종료)q\n",
      "h\n",
      "[1, 2, 3]\n",
      "{'h': [1, 2, 3, 6, 2.0], 'j': [1, 2, 3], 'n': [1, 2, 3]}\n",
      "j\n",
      "[1, 2, 3]\n",
      "{'h': [1, 2, 3, 6, 2.0], 'j': [1, 2, 3, 6, 2.0], 'n': [1, 2, 3]}\n",
      "n\n",
      "[1, 2, 3]\n",
      "{'h': [1, 2, 3, 6, 2.0], 'j': [1, 2, 3, 6, 2.0], 'n': [1, 2, 3, 6, 2.0]}\n",
      "h\n",
      "[1, 2, 3, 6, 2.0]\n",
      "j\n",
      "[1, 2, 3, 6, 2.0]\n",
      "n\n",
      "[1, 2, 3, 6, 2.0]\n",
      "최고점 학생 : n, 최고 점수 : 6, 최저점 학생 : n, 최저 점수 : 6\n",
      "총 합계 : 18, 인원수 : 3\n"
     ]
    }
   ],
   "source": [
    "#함수 실행 및 리턴 값 출력 코드\n",
    "dict_stu = input_data()\n",
    "dict_stu = input_tot_avg(dict_stu)\n",
    "(min_idx, max_idx, name_list) = max_min(dict_stu)\n",
    "print(\"최고점 학생 : {}, 최고 점수 : {}, 최저점 학생 : {}, 최저 점수 : {}\".\\\n",
    "     format(name_list[max_idx], dict_stu[name_list[max_idx]][3],\n",
    "           name_list[min_idx], dict_stu[name_list[min_idx]][3]))\n",
    "print(\"총 합계 : {}, 인원수 : {}\".format(avg_count(dict_stu),\n",
    "                                  len(dict_stu)))"
   ]
  },
  {
   "cell_type": "code",
   "execution_count": 16,
   "id": "dab132d3",
   "metadata": {},
   "outputs": [
    {
     "name": "stdout",
     "output_type": "stream",
     "text": [
      "{'name': '기사', 'hp': 200, 'mp': 30, 'level': 5}\n"
     ]
    }
   ],
   "source": [
    "#188p 연습문제 2번\n",
    "\n",
    "key_list = [\"name\", \"hp\", \"mp\", \"level\"]\n",
    "value_list = [\"기사\", 200, 30, 5]\n",
    "character = {}\n",
    "a = 0\n",
    "\n",
    "for i in value_list:\n",
    "    character[key_list[a]] = i\n",
    "    a += 1\n",
    "print(character)"
   ]
  },
  {
   "cell_type": "code",
   "execution_count": 28,
   "id": "65c32f49",
   "metadata": {},
   "outputs": [
    {
     "name": "stdout",
     "output_type": "stream",
     "text": [
      "\n",
      "142를 더할 때 10000을 넘으며, 그때의 값은 10011입니다.\n"
     ]
    }
   ],
   "source": [
    "#188p 연습문제 3번\n",
    "\n",
    "limit = 10000\n",
    "i = 1\n",
    "\n",
    "list_value = []\n",
    "while True:\n",
    "    list_value.append(i)\n",
    "    i += 1\n",
    "#     print(list_value)\n",
    "    sum_value = sum(list_value)\n",
    "    if sum_value > limit:\n",
    "        print(\"\\n{}를 더할 때 {}을 넘으며, 그때의 값은 {}입니다.\".format(i, limit, sum_value))\n",
    "        break"
   ]
  },
  {
   "cell_type": "code",
   "execution_count": 36,
   "id": "dc30a1e1",
   "metadata": {},
   "outputs": [
    {
     "name": "stdout",
     "output_type": "stream",
     "text": [
      "최대가 되는 경우: 50 * 50 = 2500\n"
     ]
    }
   ],
   "source": [
    "#189p 연습문제 4번\n",
    "max_value = 0\n",
    "max_list = []\n",
    "for i in range(1, 100):\n",
    "    j = 100 - i\n",
    "    mul = i*j\n",
    "    max_list.append(mul)\n",
    "    max_value = max(max_list)\n",
    "    if max_value == 2500:\n",
    "        print(\"최대가 되는 경우: {} * {} = {}\".format(i, j, max_value))\n",
    "        break"
   ]
  },
  {
   "cell_type": "code",
   "execution_count": 48,
   "id": "51d1d2ad",
   "metadata": {},
   "outputs": [
    {
     "name": "stdout",
     "output_type": "stream",
     "text": [
      "2의 2진수 : 10\n",
      "5의 2진수 : 101\n",
      "6의 2진수 : 110\n",
      "11의 2진수 : 1011\n",
      "13의 2진수 : 1101\n",
      "14의 2진수 : 1110\n",
      "23의 2진수 : 10111\n",
      "27의 2진수 : 11011\n",
      "29의 2진수 : 11101\n",
      "30의 2진수 : 11110\n",
      "47의 2진수 : 101111\n",
      "55의 2진수 : 110111\n",
      "59의 2진수 : 111011\n",
      "61의 2진수 : 111101\n",
      "62의 2진수 : 111110\n",
      "95의 2진수 : 1011111\n",
      "합계 539\n"
     ]
    }
   ],
   "source": [
    "#207p 연습문제 2번\n",
    "\n",
    "sum_num = 0\n",
    "for i in range(1, 101):\n",
    "    bin_num1 = \"{:b}\".format(i)\n",
    "    if bin_num1.count(\"0\") == 1:\n",
    "        bin_num = bin_num1\n",
    "        sum_num += i\n",
    "        print(\"{}의 2진수 : {}\".format(i, bin_num1))\n",
    "print(\"합계 : \", sum_num)"
   ]
  },
  {
   "cell_type": "code",
   "execution_count": 53,
   "id": "8b72b48a",
   "metadata": {},
   "outputs": [
    {
     "name": "stdout",
     "output_type": "stream",
     "text": [
      "3150\n"
     ]
    }
   ],
   "source": [
    "def mul(*values):\n",
    "    output = 1\n",
    "    for value in values:\n",
    "        output *= value\n",
    "    return output\n",
    "\n",
    "print(mul(5, 7, 9, 10))"
   ]
  }
 ],
 "metadata": {
  "kernelspec": {
   "display_name": "Python 3 (ipykernel)",
   "language": "python",
   "name": "python3"
  },
  "language_info": {
   "codemirror_mode": {
    "name": "ipython",
    "version": 3
   },
   "file_extension": ".py",
   "mimetype": "text/x-python",
   "name": "python",
   "nbconvert_exporter": "python",
   "pygments_lexer": "ipython3",
   "version": "3.9.7"
  }
 },
 "nbformat": 4,
 "nbformat_minor": 5
}
